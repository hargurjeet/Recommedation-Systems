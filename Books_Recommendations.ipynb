{
  "nbformat": 4,
  "nbformat_minor": 0,
  "metadata": {
    "colab": {
      "name": "Books Recommendations.ipynb",
      "provenance": [],
      "authorship_tag": "ABX9TyN3MgmHM2tYXGWp4mDoXp7u",
      "include_colab_link": true
    },
    "kernelspec": {
      "name": "python3",
      "display_name": "Python 3"
    },
    "language_info": {
      "name": "python"
    }
  },
  "cells": [
    {
      "cell_type": "markdown",
      "metadata": {
        "id": "view-in-github",
        "colab_type": "text"
      },
      "source": [
        "<a href=\"https://colab.research.google.com/github/hargurjeet/Recommedation-Systems/blob/main/Books_Recommendations.ipynb\" target=\"_parent\"><img src=\"https://colab.research.google.com/assets/colab-badge.svg\" alt=\"Open In Colab\"/></a>"
      ]
    },
    {
      "cell_type": "code",
      "metadata": {
        "id": "NhCacFgtC8DX"
      },
      "source": [
        "import numpy as np\n",
        "import pandas as pd"
      ],
      "execution_count": 1,
      "outputs": []
    },
    {
      "cell_type": "code",
      "metadata": {
        "colab": {
          "resources": {
            "http://localhost:8080/nbextensions/google.colab/files.js": {
              "data": "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",
              "ok": true,
              "headers": [
                [
                  "content-type",
                  "application/javascript"
                ]
              ],
              "status": 200,
              "status_text": ""
            }
          },
          "base_uri": "https://localhost:8080/",
          "height": 438
        },
        "id": "OYbZ6TeCtR3l",
        "outputId": "c040dc70-d284-4c30-94a8-b19a890bfc02"
      },
      "source": [
        "# Upload kaggle.jason\n",
        "# please follow this link incase not aware: https://www.kaggle.com/general/74235\n",
        "from google.colab import files\n",
        "files.upload()\n",
        "\n",
        "! pip install opendatasets --upgrade\n",
        "import opendatasets as od\n",
        "\n",
        "dataset_url = 'https://www.kaggle.com/jealousleopard/goodreadsbooks'\n",
        "od.download(dataset_url)"
      ],
      "execution_count": 2,
      "outputs": [
        {
          "output_type": "display_data",
          "data": {
            "text/html": [
              "\n",
              "     <input type=\"file\" id=\"files-91527586-e008-442d-8fdf-beab11742d29\" name=\"files[]\" multiple disabled\n",
              "        style=\"border:none\" />\n",
              "     <output id=\"result-91527586-e008-442d-8fdf-beab11742d29\">\n",
              "      Upload widget is only available when the cell has been executed in the\n",
              "      current browser session. Please rerun this cell to enable.\n",
              "      </output>\n",
              "      <script src=\"/nbextensions/google.colab/files.js\"></script> "
            ],
            "text/plain": [
              "<IPython.core.display.HTML object>"
            ]
          },
          "metadata": {
            "tags": []
          }
        },
        {
          "output_type": "stream",
          "text": [
            "Saving kaggle.json to kaggle.json\n",
            "Collecting opendatasets\n",
            "  Downloading https://files.pythonhosted.org/packages/b6/3f/cdd30cbd950efdb1fa5c766ffb2c38d1da5314292b6cd226e3871171a776/opendatasets-0.1.20-py3-none-any.whl\n",
            "Requirement already satisfied, skipping upgrade: click in /usr/local/lib/python3.7/dist-packages (from opendatasets) (7.1.2)\n",
            "Requirement already satisfied, skipping upgrade: kaggle in /usr/local/lib/python3.7/dist-packages (from opendatasets) (1.5.12)\n",
            "Requirement already satisfied, skipping upgrade: tqdm in /usr/local/lib/python3.7/dist-packages (from opendatasets) (4.41.1)\n",
            "Requirement already satisfied, skipping upgrade: requests in /usr/local/lib/python3.7/dist-packages (from kaggle->opendatasets) (2.23.0)\n",
            "Requirement already satisfied, skipping upgrade: six>=1.10 in /usr/local/lib/python3.7/dist-packages (from kaggle->opendatasets) (1.15.0)\n",
            "Requirement already satisfied, skipping upgrade: python-dateutil in /usr/local/lib/python3.7/dist-packages (from kaggle->opendatasets) (2.8.1)\n",
            "Requirement already satisfied, skipping upgrade: certifi in /usr/local/lib/python3.7/dist-packages (from kaggle->opendatasets) (2021.5.30)\n",
            "Requirement already satisfied, skipping upgrade: python-slugify in /usr/local/lib/python3.7/dist-packages (from kaggle->opendatasets) (5.0.2)\n",
            "Requirement already satisfied, skipping upgrade: urllib3 in /usr/local/lib/python3.7/dist-packages (from kaggle->opendatasets) (1.24.3)\n",
            "Requirement already satisfied, skipping upgrade: idna<3,>=2.5 in /usr/local/lib/python3.7/dist-packages (from requests->kaggle->opendatasets) (2.10)\n",
            "Requirement already satisfied, skipping upgrade: chardet<4,>=3.0.2 in /usr/local/lib/python3.7/dist-packages (from requests->kaggle->opendatasets) (3.0.4)\n",
            "Requirement already satisfied, skipping upgrade: text-unidecode>=1.3 in /usr/local/lib/python3.7/dist-packages (from python-slugify->kaggle->opendatasets) (1.3)\n",
            "Installing collected packages: opendatasets\n",
            "Successfully installed opendatasets-0.1.20\n"
          ],
          "name": "stdout"
        },
        {
          "output_type": "stream",
          "text": [
            "100%|██████████| 622k/622k [00:00<00:00, 59.4MB/s]"
          ],
          "name": "stderr"
        },
        {
          "output_type": "stream",
          "text": [
            "Downloading goodreadsbooks.zip to ./goodreadsbooks\n",
            "\n"
          ],
          "name": "stdout"
        },
        {
          "output_type": "stream",
          "text": [
            "\n"
          ],
          "name": "stderr"
        }
      ]
    },
    {
      "cell_type": "code",
      "metadata": {
        "colab": {
          "base_uri": "https://localhost:8080/",
          "height": 375
        },
        "id": "yYOnJr3stXZt",
        "outputId": "400692b1-fcff-4e06-d346-5a5ea3acfb58"
      },
      "source": [
        "df = pd.read_csv('/content/goodreadsbooks/books.csv', error_bad_lines=False)\n",
        "df.head(2)"
      ],
      "execution_count": 9,
      "outputs": [
        {
          "output_type": "stream",
          "text": [
            "b'Skipping line 3350: expected 12 fields, saw 13\\nSkipping line 4704: expected 12 fields, saw 13\\nSkipping line 5879: expected 12 fields, saw 13\\nSkipping line 8981: expected 12 fields, saw 13\\n'\n"
          ],
          "name": "stderr"
        },
        {
          "output_type": "execute_result",
          "data": {
            "text/html": [
              "<div>\n",
              "<style scoped>\n",
              "    .dataframe tbody tr th:only-of-type {\n",
              "        vertical-align: middle;\n",
              "    }\n",
              "\n",
              "    .dataframe tbody tr th {\n",
              "        vertical-align: top;\n",
              "    }\n",
              "\n",
              "    .dataframe thead th {\n",
              "        text-align: right;\n",
              "    }\n",
              "</style>\n",
              "<table border=\"1\" class=\"dataframe\">\n",
              "  <thead>\n",
              "    <tr style=\"text-align: right;\">\n",
              "      <th></th>\n",
              "      <th>bookID</th>\n",
              "      <th>title</th>\n",
              "      <th>authors</th>\n",
              "      <th>average_rating</th>\n",
              "      <th>isbn</th>\n",
              "      <th>isbn13</th>\n",
              "      <th>language_code</th>\n",
              "      <th>num_pages</th>\n",
              "      <th>ratings_count</th>\n",
              "      <th>text_reviews_count</th>\n",
              "      <th>publication_date</th>\n",
              "      <th>publisher</th>\n",
              "    </tr>\n",
              "  </thead>\n",
              "  <tbody>\n",
              "    <tr>\n",
              "      <th>0</th>\n",
              "      <td>1</td>\n",
              "      <td>Harry Potter and the Half-Blood Prince (Harry ...</td>\n",
              "      <td>J.K. Rowling/Mary GrandPré</td>\n",
              "      <td>4.57</td>\n",
              "      <td>0439785960</td>\n",
              "      <td>9780439785969</td>\n",
              "      <td>eng</td>\n",
              "      <td>652</td>\n",
              "      <td>2095690</td>\n",
              "      <td>27591</td>\n",
              "      <td>9/16/2006</td>\n",
              "      <td>Scholastic Inc.</td>\n",
              "    </tr>\n",
              "    <tr>\n",
              "      <th>1</th>\n",
              "      <td>2</td>\n",
              "      <td>Harry Potter and the Order of the Phoenix (Har...</td>\n",
              "      <td>J.K. Rowling/Mary GrandPré</td>\n",
              "      <td>4.49</td>\n",
              "      <td>0439358078</td>\n",
              "      <td>9780439358071</td>\n",
              "      <td>eng</td>\n",
              "      <td>870</td>\n",
              "      <td>2153167</td>\n",
              "      <td>29221</td>\n",
              "      <td>9/1/2004</td>\n",
              "      <td>Scholastic Inc.</td>\n",
              "    </tr>\n",
              "  </tbody>\n",
              "</table>\n",
              "</div>"
            ],
            "text/plain": [
              "   bookID  ...        publisher\n",
              "0       1  ...  Scholastic Inc.\n",
              "1       2  ...  Scholastic Inc.\n",
              "\n",
              "[2 rows x 12 columns]"
            ]
          },
          "metadata": {
            "tags": []
          },
          "execution_count": 9
        }
      ]
    },
    {
      "cell_type": "code",
      "metadata": {
        "colab": {
          "base_uri": "https://localhost:8080/"
        },
        "id": "5YphV5RUuwca",
        "outputId": "8ae5ca91-ed0f-4201-9aa9-ecb9aa63ed05"
      },
      "source": [
        "df.shape"
      ],
      "execution_count": 7,
      "outputs": [
        {
          "output_type": "execute_result",
          "data": {
            "text/plain": [
              "(11123, 12)"
            ]
          },
          "metadata": {
            "tags": []
          },
          "execution_count": 7
        }
      ]
    },
    {
      "cell_type": "code",
      "metadata": {
        "colab": {
          "base_uri": "https://localhost:8080/"
        },
        "id": "NeMI27zdzUeI",
        "outputId": "aef4cf7c-3728-47c7-9855-386b406d24f2"
      },
      "source": [
        "df.info()"
      ],
      "execution_count": 8,
      "outputs": [
        {
          "output_type": "stream",
          "text": [
            "<class 'pandas.core.frame.DataFrame'>\n",
            "RangeIndex: 11123 entries, 0 to 11122\n",
            "Data columns (total 12 columns):\n",
            " #   Column              Non-Null Count  Dtype  \n",
            "---  ------              --------------  -----  \n",
            " 0   bookID              11123 non-null  int64  \n",
            " 1   title               11123 non-null  object \n",
            " 2   authors             11123 non-null  object \n",
            " 3   average_rating      11123 non-null  float64\n",
            " 4   isbn                11123 non-null  object \n",
            " 5   isbn13              11123 non-null  int64  \n",
            " 6   language_code       11123 non-null  object \n",
            " 7     num_pages         11123 non-null  int64  \n",
            " 8   ratings_count       11123 non-null  int64  \n",
            " 9   text_reviews_count  11123 non-null  int64  \n",
            " 10  publication_date    11123 non-null  object \n",
            " 11  publisher           11123 non-null  object \n",
            "dtypes: float64(1), int64(5), object(6)\n",
            "memory usage: 1.0+ MB\n"
          ],
          "name": "stdout"
        }
      ]
    },
    {
      "cell_type": "code",
      "metadata": {
        "colab": {
          "base_uri": "https://localhost:8080/",
          "height": 112
        },
        "id": "tzZTwHZhzW8x",
        "outputId": "87f3d433-b330-4fbb-8fb8-123208dd9efb"
      },
      "source": [
        "df_relevant_data = df[['title','average_rating','ratings_count','text_reviews_count']]\n",
        "df_relevant_data.head(2)"
      ],
      "execution_count": 10,
      "outputs": [
        {
          "output_type": "execute_result",
          "data": {
            "text/html": [
              "<div>\n",
              "<style scoped>\n",
              "    .dataframe tbody tr th:only-of-type {\n",
              "        vertical-align: middle;\n",
              "    }\n",
              "\n",
              "    .dataframe tbody tr th {\n",
              "        vertical-align: top;\n",
              "    }\n",
              "\n",
              "    .dataframe thead th {\n",
              "        text-align: right;\n",
              "    }\n",
              "</style>\n",
              "<table border=\"1\" class=\"dataframe\">\n",
              "  <thead>\n",
              "    <tr style=\"text-align: right;\">\n",
              "      <th></th>\n",
              "      <th>title</th>\n",
              "      <th>average_rating</th>\n",
              "      <th>ratings_count</th>\n",
              "      <th>text_reviews_count</th>\n",
              "    </tr>\n",
              "  </thead>\n",
              "  <tbody>\n",
              "    <tr>\n",
              "      <th>0</th>\n",
              "      <td>Harry Potter and the Half-Blood Prince (Harry ...</td>\n",
              "      <td>4.57</td>\n",
              "      <td>2095690</td>\n",
              "      <td>27591</td>\n",
              "    </tr>\n",
              "    <tr>\n",
              "      <th>1</th>\n",
              "      <td>Harry Potter and the Order of the Phoenix (Har...</td>\n",
              "      <td>4.49</td>\n",
              "      <td>2153167</td>\n",
              "      <td>29221</td>\n",
              "    </tr>\n",
              "  </tbody>\n",
              "</table>\n",
              "</div>"
            ],
            "text/plain": [
              "                                               title  ...  text_reviews_count\n",
              "0  Harry Potter and the Half-Blood Prince (Harry ...  ...               27591\n",
              "1  Harry Potter and the Order of the Phoenix (Har...  ...               29221\n",
              "\n",
              "[2 rows x 4 columns]"
            ]
          },
          "metadata": {
            "tags": []
          },
          "execution_count": 10
        }
      ]
    },
    {
      "cell_type": "markdown",
      "metadata": {
        "id": "4qpLESyb2Efx"
      },
      "source": [
        "**Using Weighted average for each Books's Average Rating**\n",
        "![image.png](data:image/png;base64,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)\n"
      ]
    },
    {
      "cell_type": "code",
      "metadata": {
        "id": "c7iKnB2uzctT"
      },
      "source": [
        "# Calculate all the components based on the above formula\n",
        "v=df_relevant_data['ratings_count']\n",
        "R=df_relevant_data['average_rating']\n",
        "C=df_relevant_data['average_rating'].mean()\n",
        "m=df_relevant_data['ratings_count'].quantile(0.70)"
      ],
      "execution_count": 11,
      "outputs": []
    },
    {
      "cell_type": "code",
      "metadata": {
        "colab": {
          "base_uri": "https://localhost:8080/"
        },
        "id": "uTSm3bFyzcrC",
        "outputId": "129b87ae-ba49-42e2-e6c4-afa7bdf43b17"
      },
      "source": [
        "df_relevant_data['weighted_average']=((R*v)+ (C*m))/(v+m)"
      ],
      "execution_count": 12,
      "outputs": [
        {
          "output_type": "stream",
          "text": [
            "/usr/local/lib/python3.7/dist-packages/ipykernel_launcher.py:1: SettingWithCopyWarning: \n",
            "A value is trying to be set on a copy of a slice from a DataFrame.\n",
            "Try using .loc[row_indexer,col_indexer] = value instead\n",
            "\n",
            "See the caveats in the documentation: https://pandas.pydata.org/pandas-docs/stable/user_guide/indexing.html#returning-a-view-versus-a-copy\n",
            "  \"\"\"Entry point for launching an IPython kernel.\n"
          ],
          "name": "stderr"
        }
      ]
    },
    {
      "cell_type": "code",
      "metadata": {
        "colab": {
          "base_uri": "https://localhost:8080/",
          "height": 205
        },
        "id": "LW2dYGDr3q9J",
        "outputId": "5f547713-127a-43cd-d024-6cd282731699"
      },
      "source": [
        "df_relevant_data.head()"
      ],
      "execution_count": 14,
      "outputs": [
        {
          "output_type": "execute_result",
          "data": {
            "text/html": [
              "<div>\n",
              "<style scoped>\n",
              "    .dataframe tbody tr th:only-of-type {\n",
              "        vertical-align: middle;\n",
              "    }\n",
              "\n",
              "    .dataframe tbody tr th {\n",
              "        vertical-align: top;\n",
              "    }\n",
              "\n",
              "    .dataframe thead th {\n",
              "        text-align: right;\n",
              "    }\n",
              "</style>\n",
              "<table border=\"1\" class=\"dataframe\">\n",
              "  <thead>\n",
              "    <tr style=\"text-align: right;\">\n",
              "      <th></th>\n",
              "      <th>title</th>\n",
              "      <th>average_rating</th>\n",
              "      <th>ratings_count</th>\n",
              "      <th>text_reviews_count</th>\n",
              "      <th>weighted_average</th>\n",
              "    </tr>\n",
              "  </thead>\n",
              "  <tbody>\n",
              "    <tr>\n",
              "      <th>0</th>\n",
              "      <td>Harry Potter and the Half-Blood Prince (Harry ...</td>\n",
              "      <td>4.57</td>\n",
              "      <td>2095690</td>\n",
              "      <td>27591</td>\n",
              "      <td>4.569008</td>\n",
              "    </tr>\n",
              "    <tr>\n",
              "      <th>1</th>\n",
              "      <td>Harry Potter and the Order of the Phoenix (Har...</td>\n",
              "      <td>4.49</td>\n",
              "      <td>2153167</td>\n",
              "      <td>29221</td>\n",
              "      <td>4.489156</td>\n",
              "    </tr>\n",
              "    <tr>\n",
              "      <th>2</th>\n",
              "      <td>Harry Potter and the Chamber of Secrets (Harry...</td>\n",
              "      <td>4.42</td>\n",
              "      <td>6333</td>\n",
              "      <td>244</td>\n",
              "      <td>4.254414</td>\n",
              "    </tr>\n",
              "    <tr>\n",
              "      <th>3</th>\n",
              "      <td>Harry Potter and the Prisoner of Azkaban (Harr...</td>\n",
              "      <td>4.56</td>\n",
              "      <td>2339585</td>\n",
              "      <td>36325</td>\n",
              "      <td>4.559125</td>\n",
              "    </tr>\n",
              "    <tr>\n",
              "      <th>4</th>\n",
              "      <td>Harry Potter Boxed Set  Books 1-5 (Harry Potte...</td>\n",
              "      <td>4.78</td>\n",
              "      <td>41428</td>\n",
              "      <td>164</td>\n",
              "      <td>4.718051</td>\n",
              "    </tr>\n",
              "  </tbody>\n",
              "</table>\n",
              "</div>"
            ],
            "text/plain": [
              "                                               title  ...  weighted_average\n",
              "0  Harry Potter and the Half-Blood Prince (Harry ...  ...          4.569008\n",
              "1  Harry Potter and the Order of the Phoenix (Har...  ...          4.489156\n",
              "2  Harry Potter and the Chamber of Secrets (Harry...  ...          4.254414\n",
              "3  Harry Potter and the Prisoner of Azkaban (Harr...  ...          4.559125\n",
              "4  Harry Potter Boxed Set  Books 1-5 (Harry Potte...  ...          4.718051\n",
              "\n",
              "[5 rows x 5 columns]"
            ]
          },
          "metadata": {
            "tags": []
          },
          "execution_count": 14
        }
      ]
    },
    {
      "cell_type": "code",
      "metadata": {
        "colab": {
          "base_uri": "https://localhost:8080/",
          "height": 422
        },
        "id": "R7ZDSzHP471K",
        "outputId": "506a1599-c971-404a-b718-018139084458"
      },
      "source": [
        "\n",
        "books_sorted_ranking=df_relevant_data.sort_values('weighted_average',ascending=False)\n",
        "books_sorted_ranking"
      ],
      "execution_count": 15,
      "outputs": [
        {
          "output_type": "execute_result",
          "data": {
            "text/html": [
              "<div>\n",
              "<style scoped>\n",
              "    .dataframe tbody tr th:only-of-type {\n",
              "        vertical-align: middle;\n",
              "    }\n",
              "\n",
              "    .dataframe tbody tr th {\n",
              "        vertical-align: top;\n",
              "    }\n",
              "\n",
              "    .dataframe thead th {\n",
              "        text-align: right;\n",
              "    }\n",
              "</style>\n",
              "<table border=\"1\" class=\"dataframe\">\n",
              "  <thead>\n",
              "    <tr style=\"text-align: right;\">\n",
              "      <th></th>\n",
              "      <th>title</th>\n",
              "      <th>average_rating</th>\n",
              "      <th>ratings_count</th>\n",
              "      <th>text_reviews_count</th>\n",
              "      <th>weighted_average</th>\n",
              "    </tr>\n",
              "  </thead>\n",
              "  <tbody>\n",
              "    <tr>\n",
              "      <th>6587</th>\n",
              "      <td>The Complete Calvin and Hobbes</td>\n",
              "      <td>4.82</td>\n",
              "      <td>32213</td>\n",
              "      <td>930</td>\n",
              "      <td>4.738274</td>\n",
              "    </tr>\n",
              "    <tr>\n",
              "      <th>4</th>\n",
              "      <td>Harry Potter Boxed Set  Books 1-5 (Harry Potte...</td>\n",
              "      <td>4.78</td>\n",
              "      <td>41428</td>\n",
              "      <td>164</td>\n",
              "      <td>4.718051</td>\n",
              "    </tr>\n",
              "    <tr>\n",
              "      <th>6589</th>\n",
              "      <td>It's a Magical World (Calvin and Hobbes  #11)</td>\n",
              "      <td>4.76</td>\n",
              "      <td>23875</td>\n",
              "      <td>303</td>\n",
              "      <td>4.660409</td>\n",
              "    </tr>\n",
              "    <tr>\n",
              "      <th>6</th>\n",
              "      <td>Harry Potter Collection (Harry Potter  #1-6)</td>\n",
              "      <td>4.73</td>\n",
              "      <td>28242</td>\n",
              "      <td>808</td>\n",
              "      <td>4.647325</td>\n",
              "    </tr>\n",
              "    <tr>\n",
              "      <th>6588</th>\n",
              "      <td>The Calvin and Hobbes Tenth Anniversary Book</td>\n",
              "      <td>4.63</td>\n",
              "      <td>49122</td>\n",
              "      <td>368</td>\n",
              "      <td>4.586520</td>\n",
              "    </tr>\n",
              "    <tr>\n",
              "      <th>...</th>\n",
              "      <td>...</td>\n",
              "      <td>...</td>\n",
              "      <td>...</td>\n",
              "      <td>...</td>\n",
              "      <td>...</td>\n",
              "    </tr>\n",
              "    <tr>\n",
              "      <th>1940</th>\n",
              "      <td>The Mermaid Chair</td>\n",
              "      <td>3.13</td>\n",
              "      <td>68363</td>\n",
              "      <td>5816</td>\n",
              "      <td>3.166744</td>\n",
              "    </tr>\n",
              "    <tr>\n",
              "      <th>668</th>\n",
              "      <td>The Jane Austen Book Club</td>\n",
              "      <td>3.08</td>\n",
              "      <td>57720</td>\n",
              "      <td>3535</td>\n",
              "      <td>3.125839</td>\n",
              "    </tr>\n",
              "    <tr>\n",
              "      <th>6630</th>\n",
              "      <td>Lost</td>\n",
              "      <td>2.82</td>\n",
              "      <td>13152</td>\n",
              "      <td>904</td>\n",
              "      <td>3.042034</td>\n",
              "    </tr>\n",
              "    <tr>\n",
              "      <th>8812</th>\n",
              "      <td>Citizen Girl</td>\n",
              "      <td>2.40</td>\n",
              "      <td>5415</td>\n",
              "      <td>577</td>\n",
              "      <td>2.977993</td>\n",
              "    </tr>\n",
              "    <tr>\n",
              "      <th>1860</th>\n",
              "      <td>Four Blondes</td>\n",
              "      <td>2.82</td>\n",
              "      <td>23409</td>\n",
              "      <td>877</td>\n",
              "      <td>2.956682</td>\n",
              "    </tr>\n",
              "  </tbody>\n",
              "</table>\n",
              "<p>11123 rows × 5 columns</p>\n",
              "</div>"
            ],
            "text/plain": [
              "                                                  title  ...  weighted_average\n",
              "6587                     The Complete Calvin and Hobbes  ...          4.738274\n",
              "4     Harry Potter Boxed Set  Books 1-5 (Harry Potte...  ...          4.718051\n",
              "6589      It's a Magical World (Calvin and Hobbes  #11)  ...          4.660409\n",
              "6          Harry Potter Collection (Harry Potter  #1-6)  ...          4.647325\n",
              "6588       The Calvin and Hobbes Tenth Anniversary Book  ...          4.586520\n",
              "...                                                 ...  ...               ...\n",
              "1940                                  The Mermaid Chair  ...          3.166744\n",
              "668                           The Jane Austen Book Club  ...          3.125839\n",
              "6630                                               Lost  ...          3.042034\n",
              "8812                                       Citizen Girl  ...          2.977993\n",
              "1860                                       Four Blondes  ...          2.956682\n",
              "\n",
              "[11123 rows x 5 columns]"
            ]
          },
          "metadata": {
            "tags": []
          },
          "execution_count": 15
        }
      ]
    },
    {
      "cell_type": "code",
      "metadata": {
        "id": "imPgGVzq5Vhj"
      },
      "source": [
        ""
      ],
      "execution_count": null,
      "outputs": []
    }
  ]
}