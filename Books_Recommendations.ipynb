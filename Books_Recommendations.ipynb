{
  "nbformat": 4,
  "nbformat_minor": 0,
  "metadata": {
    "colab": {
      "name": "Books Recommendations.ipynb",
      "provenance": [],
      "authorship_tag": "ABX9TyOsvFOD4MVroHq9gYPc7+v7",
      "include_colab_link": true
    },
    "kernelspec": {
      "name": "python3",
      "display_name": "Python 3"
    },
    "language_info": {
      "name": "python"
    }
  },
  "cells": [
    {
      "cell_type": "markdown",
      "metadata": {
        "id": "view-in-github",
        "colab_type": "text"
      },
      "source": [
        "<a href=\"https://colab.research.google.com/github/hargurjeet/Recommedation-Systems/blob/main/Books_Recommendations.ipynb\" target=\"_parent\"><img src=\"https://colab.research.google.com/assets/colab-badge.svg\" alt=\"Open In Colab\"/></a>"
      ]
    },
    {
      "cell_type": "markdown",
      "metadata": {
        "id": "PcKqifl4IRHu"
      },
      "source": [
        "# **Books Recommendations Systems**"
      ]
    },
    {
      "cell_type": "markdown",
      "metadata": {
        "id": "WxI2WjmxIhv2"
      },
      "source": [
        "Building recommender systems today requires specialized expertise in analytics, machine learning and software engineering, and learning new skills and tools is difficult and time-consuming. In this notebook, we will start from scratch, covering some basic fundamental techniques and implementations in Python. I build the recommedation system using the **Weighted Average** technique."
      ]
    },
    {
      "cell_type": "markdown",
      "metadata": {
        "id": "DMhSNC8AMbfV"
      },
      "source": [
        "# **Table Of Contents**<a name=\"top\"></a>\n",
        "\n",
        "\n",
        "---\n",
        "\n",
        "\n",
        "\n",
        "---\n",
        "\n",
        "\n",
        "  1. [About the Dataset](#1)\n",
        "  2. [Expainatory Data Analysis](#2)\n",
        "  3. [Implementing the Weighted Averages](#3)\n",
        "  4. [Recommendation based on Weighted Averages](#4)\n",
        "  5. [Recommendation based on Weighted Averages and Text Reviews](#5)\n",
        "  6. [Summary](#6)\n",
        "  7. [Future Work](#7)\n",
        "  8. [References](#8)"
      ]
    },
    {
      "cell_type": "markdown",
      "metadata": {
        "id": "BCEEpLDmOC74"
      },
      "source": [
        "# <font color=\"darkslateblue\" size=+2.0><b>1: AboutDataset</b></font> <a name=\"1\"></a>\n",
        "\n",
        "\n",
        "---\n",
        "<a href=\"#top\" class=\"btn btn-primary btn-sm\" role=\"button\" aria-pressed=\"true\" style=\"color:white\" data-toggle=\"popover\">Go to TOC</a> \n",
        "\n",
        "This file contains the detailed information about the books, primarily. Detailed description for each column can be found alongside.\n",
        "\n",
        "- bookID: A unique Identification number for each book.\n",
        "- title: The name under which the book was published.\n",
        "- authors: Names of the authors of the book. Multiple authors are delimited with\n",
        "- average_rating: The average rating of the book received in total.\n",
        "- isbn: Another unique number to identify the book, the International Standard Book Number.\n",
        "- isbn13: A 13-digit ISBN to identify the book, instead of the standard 11-digit ISBN.\n",
        "- language_code: Helps understand what is the primary language of the book. For instance, eng is standard for English\n",
        "- num_pages: Number of pages the book contains.\n",
        "- reatings_count: Total number of ratings the book received.\n",
        "- text_reviews_count: Total number of written text reviews the book received.\n",
        "\n"
      ]
    },
    {
      "cell_type": "code",
      "metadata": {
        "id": "NhCacFgtC8DX"
      },
      "source": [
        "import numpy as np\n",
        "import pandas as pd"
      ],
      "execution_count": 1,
      "outputs": []
    },
    {
      "cell_type": "code",
      "metadata": {
        "colab": {
          "resources": {
            "http://localhost:8080/nbextensions/google.colab/files.js": {
              "data": "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",
              "ok": true,
              "headers": [
                [
                  "content-type",
                  "application/javascript"
                ]
              ],
              "status": 200,
              "status_text": ""
            }
          },
          "base_uri": "https://localhost:8080/",
          "height": 438
        },
        "id": "OYbZ6TeCtR3l",
        "outputId": "ed1db800-84f2-4895-dc66-a1558f078c81"
      },
      "source": [
        "# Upload kaggle.jason\n",
        "# please follow this link incase not aware: https://www.kaggle.com/general/74235\n",
        "from google.colab import files\n",
        "files.upload()\n",
        "\n",
        "! pip install opendatasets --upgrade\n",
        "import opendatasets as od\n",
        "\n",
        "dataset_url = 'https://www.kaggle.com/jealousleopard/goodreadsbooks'\n",
        "od.download(dataset_url)"
      ],
      "execution_count": 2,
      "outputs": [
        {
          "output_type": "display_data",
          "data": {
            "text/html": [
              "\n",
              "     <input type=\"file\" id=\"files-e59a335e-2b67-4a5a-b098-eb0ef7f2a5dc\" name=\"files[]\" multiple disabled\n",
              "        style=\"border:none\" />\n",
              "     <output id=\"result-e59a335e-2b67-4a5a-b098-eb0ef7f2a5dc\">\n",
              "      Upload widget is only available when the cell has been executed in the\n",
              "      current browser session. Please rerun this cell to enable.\n",
              "      </output>\n",
              "      <script src=\"/nbextensions/google.colab/files.js\"></script> "
            ],
            "text/plain": [
              "<IPython.core.display.HTML object>"
            ]
          },
          "metadata": {
            "tags": []
          }
        },
        {
          "output_type": "stream",
          "text": [
            "Saving kaggle.json to kaggle.json\n",
            "Collecting opendatasets\n",
            "  Downloading https://files.pythonhosted.org/packages/b6/3f/cdd30cbd950efdb1fa5c766ffb2c38d1da5314292b6cd226e3871171a776/opendatasets-0.1.20-py3-none-any.whl\n",
            "Requirement already satisfied, skipping upgrade: kaggle in /usr/local/lib/python3.7/dist-packages (from opendatasets) (1.5.12)\n",
            "Requirement already satisfied, skipping upgrade: tqdm in /usr/local/lib/python3.7/dist-packages (from opendatasets) (4.41.1)\n",
            "Requirement already satisfied, skipping upgrade: click in /usr/local/lib/python3.7/dist-packages (from opendatasets) (7.1.2)\n",
            "Requirement already satisfied, skipping upgrade: certifi in /usr/local/lib/python3.7/dist-packages (from kaggle->opendatasets) (2021.5.30)\n",
            "Requirement already satisfied, skipping upgrade: python-dateutil in /usr/local/lib/python3.7/dist-packages (from kaggle->opendatasets) (2.8.1)\n",
            "Requirement already satisfied, skipping upgrade: six>=1.10 in /usr/local/lib/python3.7/dist-packages (from kaggle->opendatasets) (1.15.0)\n",
            "Requirement already satisfied, skipping upgrade: requests in /usr/local/lib/python3.7/dist-packages (from kaggle->opendatasets) (2.23.0)\n",
            "Requirement already satisfied, skipping upgrade: urllib3 in /usr/local/lib/python3.7/dist-packages (from kaggle->opendatasets) (1.24.3)\n",
            "Requirement already satisfied, skipping upgrade: python-slugify in /usr/local/lib/python3.7/dist-packages (from kaggle->opendatasets) (5.0.2)\n",
            "Requirement already satisfied, skipping upgrade: chardet<4,>=3.0.2 in /usr/local/lib/python3.7/dist-packages (from requests->kaggle->opendatasets) (3.0.4)\n",
            "Requirement already satisfied, skipping upgrade: idna<3,>=2.5 in /usr/local/lib/python3.7/dist-packages (from requests->kaggle->opendatasets) (2.10)\n",
            "Requirement already satisfied, skipping upgrade: text-unidecode>=1.3 in /usr/local/lib/python3.7/dist-packages (from python-slugify->kaggle->opendatasets) (1.3)\n",
            "Installing collected packages: opendatasets\n",
            "Successfully installed opendatasets-0.1.20\n"
          ],
          "name": "stdout"
        },
        {
          "output_type": "stream",
          "text": [
            "100%|██████████| 622k/622k [00:00<00:00, 72.2MB/s]"
          ],
          "name": "stderr"
        },
        {
          "output_type": "stream",
          "text": [
            "Downloading goodreadsbooks.zip to ./goodreadsbooks\n",
            "\n"
          ],
          "name": "stdout"
        },
        {
          "output_type": "stream",
          "text": [
            "\n"
          ],
          "name": "stderr"
        }
      ]
    },
    {
      "cell_type": "code",
      "metadata": {
        "colab": {
          "base_uri": "https://localhost:8080/",
          "height": 375
        },
        "id": "yYOnJr3stXZt",
        "outputId": "5c55c3b1-da34-4d0e-b21f-acf0f754d1f9"
      },
      "source": [
        "df = pd.read_csv('/content/goodreadsbooks/books.csv', error_bad_lines=False)\n",
        "df.head(2)"
      ],
      "execution_count": 3,
      "outputs": [
        {
          "output_type": "stream",
          "text": [
            "b'Skipping line 3350: expected 12 fields, saw 13\\nSkipping line 4704: expected 12 fields, saw 13\\nSkipping line 5879: expected 12 fields, saw 13\\nSkipping line 8981: expected 12 fields, saw 13\\n'\n"
          ],
          "name": "stderr"
        },
        {
          "output_type": "execute_result",
          "data": {
            "text/html": [
              "<div>\n",
              "<style scoped>\n",
              "    .dataframe tbody tr th:only-of-type {\n",
              "        vertical-align: middle;\n",
              "    }\n",
              "\n",
              "    .dataframe tbody tr th {\n",
              "        vertical-align: top;\n",
              "    }\n",
              "\n",
              "    .dataframe thead th {\n",
              "        text-align: right;\n",
              "    }\n",
              "</style>\n",
              "<table border=\"1\" class=\"dataframe\">\n",
              "  <thead>\n",
              "    <tr style=\"text-align: right;\">\n",
              "      <th></th>\n",
              "      <th>bookID</th>\n",
              "      <th>title</th>\n",
              "      <th>authors</th>\n",
              "      <th>average_rating</th>\n",
              "      <th>isbn</th>\n",
              "      <th>isbn13</th>\n",
              "      <th>language_code</th>\n",
              "      <th>num_pages</th>\n",
              "      <th>ratings_count</th>\n",
              "      <th>text_reviews_count</th>\n",
              "      <th>publication_date</th>\n",
              "      <th>publisher</th>\n",
              "    </tr>\n",
              "  </thead>\n",
              "  <tbody>\n",
              "    <tr>\n",
              "      <th>0</th>\n",
              "      <td>1</td>\n",
              "      <td>Harry Potter and the Half-Blood Prince (Harry ...</td>\n",
              "      <td>J.K. Rowling/Mary GrandPré</td>\n",
              "      <td>4.57</td>\n",
              "      <td>0439785960</td>\n",
              "      <td>9780439785969</td>\n",
              "      <td>eng</td>\n",
              "      <td>652</td>\n",
              "      <td>2095690</td>\n",
              "      <td>27591</td>\n",
              "      <td>9/16/2006</td>\n",
              "      <td>Scholastic Inc.</td>\n",
              "    </tr>\n",
              "    <tr>\n",
              "      <th>1</th>\n",
              "      <td>2</td>\n",
              "      <td>Harry Potter and the Order of the Phoenix (Har...</td>\n",
              "      <td>J.K. Rowling/Mary GrandPré</td>\n",
              "      <td>4.49</td>\n",
              "      <td>0439358078</td>\n",
              "      <td>9780439358071</td>\n",
              "      <td>eng</td>\n",
              "      <td>870</td>\n",
              "      <td>2153167</td>\n",
              "      <td>29221</td>\n",
              "      <td>9/1/2004</td>\n",
              "      <td>Scholastic Inc.</td>\n",
              "    </tr>\n",
              "  </tbody>\n",
              "</table>\n",
              "</div>"
            ],
            "text/plain": [
              "   bookID  ...        publisher\n",
              "0       1  ...  Scholastic Inc.\n",
              "1       2  ...  Scholastic Inc.\n",
              "\n",
              "[2 rows x 12 columns]"
            ]
          },
          "metadata": {
            "tags": []
          },
          "execution_count": 3
        }
      ]
    },
    {
      "cell_type": "markdown",
      "metadata": {
        "id": "uQH2XpetRiPG"
      },
      "source": [
        "# <font color=\"darkslateblue\" size=+2.0><b>2: Exploratory Data Analysis</b></font> <a name=\"2\"></a>\n",
        "\n",
        "\n",
        "---\n",
        "\n",
        "<a href=\"#top\" class=\"btn btn-primary btn-sm\" role=\"button\" aria-pressed=\"true\" style=\"color:white\" data-toggle=\"popover\">Go to TOC</a> \n",
        "\n",
        "Now we do the exploratory data analysis to get insights"
      ]
    },
    {
      "cell_type": "code",
      "metadata": {
        "colab": {
          "base_uri": "https://localhost:8080/"
        },
        "id": "5YphV5RUuwca",
        "outputId": "096aee06-d613-4b40-db89-1730ca737133"
      },
      "source": [
        "df.shape"
      ],
      "execution_count": 4,
      "outputs": [
        {
          "output_type": "execute_result",
          "data": {
            "text/plain": [
              "(11123, 12)"
            ]
          },
          "metadata": {
            "tags": []
          },
          "execution_count": 4
        }
      ]
    },
    {
      "cell_type": "code",
      "metadata": {
        "colab": {
          "base_uri": "https://localhost:8080/"
        },
        "id": "NeMI27zdzUeI",
        "outputId": "813d95c1-cae3-40ea-d7ac-4a3e9abbfa7a"
      },
      "source": [
        "df.info()"
      ],
      "execution_count": 5,
      "outputs": [
        {
          "output_type": "stream",
          "text": [
            "<class 'pandas.core.frame.DataFrame'>\n",
            "RangeIndex: 11123 entries, 0 to 11122\n",
            "Data columns (total 12 columns):\n",
            " #   Column              Non-Null Count  Dtype  \n",
            "---  ------              --------------  -----  \n",
            " 0   bookID              11123 non-null  int64  \n",
            " 1   title               11123 non-null  object \n",
            " 2   authors             11123 non-null  object \n",
            " 3   average_rating      11123 non-null  float64\n",
            " 4   isbn                11123 non-null  object \n",
            " 5   isbn13              11123 non-null  int64  \n",
            " 6   language_code       11123 non-null  object \n",
            " 7     num_pages         11123 non-null  int64  \n",
            " 8   ratings_count       11123 non-null  int64  \n",
            " 9   text_reviews_count  11123 non-null  int64  \n",
            " 10  publication_date    11123 non-null  object \n",
            " 11  publisher           11123 non-null  object \n",
            "dtypes: float64(1), int64(5), object(6)\n",
            "memory usage: 1.0+ MB\n"
          ],
          "name": "stdout"
        }
      ]
    },
    {
      "cell_type": "markdown",
      "metadata": {
        "id": "j3tCz6_oSZgP"
      },
      "source": [
        "The dataset seems to have no null values. This is good !!!"
      ]
    },
    {
      "cell_type": "markdown",
      "metadata": {
        "id": "crvYzixATO5_"
      },
      "source": [
        "Let us try understand the rating trend"
      ]
    },
    {
      "cell_type": "code",
      "metadata": {
        "colab": {
          "base_uri": "https://localhost:8080/",
          "height": 280
        },
        "id": "FLEx7vhSTTky",
        "outputId": "e052cfc1-3b32-42e4-a915-901b075a4452"
      },
      "source": [
        "import seaborn as sns\n",
        "sns.histplot(data=df, x=\"average_rating\", kde=True);"
      ],
      "execution_count": 6,
      "outputs": [
        {
          "output_type": "display_data",
          "data": {
            "image/png": "[encoded data removed]",
            "text/plain": [
              "<Figure size 432x288 with 1 Axes>"
            ]
          },
          "metadata": {
            "tags": [],
            "needs_background": "light"
          }
        }
      ]
    },
    {
      "cell_type": "markdown",
      "metadata": {
        "id": "YQ3pyLyDUQxn"
      },
      "source": [
        "It is observed, the rating spread is from 3 to 5 and very few books are rated below 3."
      ]
    },
    {
      "cell_type": "markdown",
      "metadata": {
        "id": "TskzGa-9Vz9D"
      },
      "source": [
        "Extracting relvant features from the original dataframe"
      ]
    },
    {
      "cell_type": "code",
      "metadata": {
        "colab": {
          "base_uri": "https://localhost:8080/",
          "height": 112
        },
        "id": "tzZTwHZhzW8x",
        "outputId": "41874d5c-18f7-49d6-c763-406ce7a577bb"
      },
      "source": [
        "df_relevant_data = df[['title','average_rating','ratings_count','text_reviews_count']]\n",
        "df_relevant_data.head(2)"
      ],
      "execution_count": 11,
      "outputs": [
        {
          "output_type": "execute_result",
          "data": {
            "text/html": [
              "<div>\n",
              "<style scoped>\n",
              "    .dataframe tbody tr th:only-of-type {\n",
              "        vertical-align: middle;\n",
              "    }\n",
              "\n",
              "    .dataframe tbody tr th {\n",
              "        vertical-align: top;\n",
              "    }\n",
              "\n",
              "    .dataframe thead th {\n",
              "        text-align: right;\n",
              "    }\n",
              "</style>\n",
              "<table border=\"1\" class=\"dataframe\">\n",
              "  <thead>\n",
              "    <tr style=\"text-align: right;\">\n",
              "      <th></th>\n",
              "      <th>title</th>\n",
              "      <th>average_rating</th>\n",
              "      <th>ratings_count</th>\n",
              "      <th>text_reviews_count</th>\n",
              "    </tr>\n",
              "  </thead>\n",
              "  <tbody>\n",
              "    <tr>\n",
              "      <th>0</th>\n",
              "      <td>Harry Potter and the Half-Blood Prince (Harry ...</td>\n",
              "      <td>4.57</td>\n",
              "      <td>2095690</td>\n",
              "      <td>27591</td>\n",
              "    </tr>\n",
              "    <tr>\n",
              "      <th>1</th>\n",
              "      <td>Harry Potter and the Order of the Phoenix (Har...</td>\n",
              "      <td>4.49</td>\n",
              "      <td>2153167</td>\n",
              "      <td>29221</td>\n",
              "    </tr>\n",
              "  </tbody>\n",
              "</table>\n",
              "</div>"
            ],
            "text/plain": [
              "                                               title  ...  text_reviews_count\n",
              "0  Harry Potter and the Half-Blood Prince (Harry ...  ...               27591\n",
              "1  Harry Potter and the Order of the Phoenix (Har...  ...               29221\n",
              "\n",
              "[2 rows x 4 columns]"
            ]
          },
          "metadata": {
            "tags": []
          },
          "execution_count": 11
        }
      ]
    },
    {
      "cell_type": "markdown",
      "metadata": {
        "id": "Vx6w5wEmV_jF"
      },
      "source": [
        "# <font color=\"darkslateblue\" size=+2.0><b>3: Implementing Weighted Averages</b></font> <a name=\"3\"></a>\n",
        "\n",
        "\n",
        "---\n",
        "\n",
        "<a href=\"#top\" class=\"btn btn-primary btn-sm\" role=\"button\" aria-pressed=\"true\" style=\"color:white\" data-toggle=\"popover\">Go to TOC</a> "
      ]
    },
    {
      "cell_type": "markdown",
      "metadata": {
        "id": "4qpLESyb2Efx"
      },
      "source": [
        "**Using Weighted average for each Books's Average Rating**\n",
        "<br> **W = Rv + Cm/(v + m)**\n",
        "\n",
        "where\n",
        "<br> W= Weighted Rating\n",
        "<br> R = Average of the Books rating 0 to 5\n",
        "<br> v = No of votes for the books\n",
        "<br> m = minimum no of votes to be listed\n",
        "<br> C = the mean rating acorss the whole report\n"
      ]
    },
    {
      "cell_type": "code",
      "metadata": {
        "id": "c7iKnB2uzctT"
      },
      "source": [
        "# Calculate all the components based on the above formula\n",
        "v=df_relevant_data['ratings_count']\n",
        "R=df_relevant_data['average_rating']\n",
        "C=df_relevant_data['average_rating'].mean()\n",
        "m=df_relevant_data['ratings_count'].quantile(0.70)"
      ],
      "execution_count": 12,
      "outputs": []
    },
    {
      "cell_type": "code",
      "metadata": {
        "colab": {
          "base_uri": "https://localhost:8080/"
        },
        "id": "uTSm3bFyzcrC",
        "outputId": "53835fef-dad5-4a8a-94e6-977df575d434"
      },
      "source": [
        "df_relevant_data['weighted_average']=((R*v)+ (C*m))/(v+m)"
      ],
      "execution_count": 13,
      "outputs": [
        {
          "output_type": "stream",
          "text": [
            "/usr/local/lib/python3.7/dist-packages/ipykernel_launcher.py:1: SettingWithCopyWarning: \n",
            "A value is trying to be set on a copy of a slice from a DataFrame.\n",
            "Try using .loc[row_indexer,col_indexer] = value instead\n",
            "\n",
            "See the caveats in the documentation: https://pandas.pydata.org/pandas-docs/stable/user_guide/indexing.html#returning-a-view-versus-a-copy\n",
            "  \"\"\"Entry point for launching an IPython kernel.\n"
          ],
          "name": "stderr"
        }
      ]
    },
    {
      "cell_type": "code",
      "metadata": {
        "colab": {
          "base_uri": "https://localhost:8080/",
          "height": 205
        },
        "id": "LW2dYGDr3q9J",
        "outputId": "ea53eb9c-e283-45da-fbad-c3bc7c302d92"
      },
      "source": [
        "df_relevant_data.head()"
      ],
      "execution_count": 14,
      "outputs": [
        {
          "output_type": "execute_result",
          "data": {
            "text/html": [
              "<div>\n",
              "<style scoped>\n",
              "    .dataframe tbody tr th:only-of-type {\n",
              "        vertical-align: middle;\n",
              "    }\n",
              "\n",
              "    .dataframe tbody tr th {\n",
              "        vertical-align: top;\n",
              "    }\n",
              "\n",
              "    .dataframe thead th {\n",
              "        text-align: right;\n",
              "    }\n",
              "</style>\n",
              "<table border=\"1\" class=\"dataframe\">\n",
              "  <thead>\n",
              "    <tr style=\"text-align: right;\">\n",
              "      <th></th>\n",
              "      <th>title</th>\n",
              "      <th>average_rating</th>\n",
              "      <th>ratings_count</th>\n",
              "      <th>text_reviews_count</th>\n",
              "      <th>weighted_average</th>\n",
              "    </tr>\n",
              "  </thead>\n",
              "  <tbody>\n",
              "    <tr>\n",
              "      <th>0</th>\n",
              "      <td>Harry Potter and the Half-Blood Prince (Harry ...</td>\n",
              "      <td>4.57</td>\n",
              "      <td>2095690</td>\n",
              "      <td>27591</td>\n",
              "      <td>4.569008</td>\n",
              "    </tr>\n",
              "    <tr>\n",
              "      <th>1</th>\n",
              "      <td>Harry Potter and the Order of the Phoenix (Har...</td>\n",
              "      <td>4.49</td>\n",
              "      <td>2153167</td>\n",
              "      <td>29221</td>\n",
              "      <td>4.489156</td>\n",
              "    </tr>\n",
              "    <tr>\n",
              "      <th>2</th>\n",
              "      <td>Harry Potter and the Chamber of Secrets (Harry...</td>\n",
              "      <td>4.42</td>\n",
              "      <td>6333</td>\n",
              "      <td>244</td>\n",
              "      <td>4.254414</td>\n",
              "    </tr>\n",
              "    <tr>\n",
              "      <th>3</th>\n",
              "      <td>Harry Potter and the Prisoner of Azkaban (Harr...</td>\n",
              "      <td>4.56</td>\n",
              "      <td>2339585</td>\n",
              "      <td>36325</td>\n",
              "      <td>4.559125</td>\n",
              "    </tr>\n",
              "    <tr>\n",
              "      <th>4</th>\n",
              "      <td>Harry Potter Boxed Set  Books 1-5 (Harry Potte...</td>\n",
              "      <td>4.78</td>\n",
              "      <td>41428</td>\n",
              "      <td>164</td>\n",
              "      <td>4.718051</td>\n",
              "    </tr>\n",
              "  </tbody>\n",
              "</table>\n",
              "</div>"
            ],
            "text/plain": [
              "                                               title  ...  weighted_average\n",
              "0  Harry Potter and the Half-Blood Prince (Harry ...  ...          4.569008\n",
              "1  Harry Potter and the Order of the Phoenix (Har...  ...          4.489156\n",
              "2  Harry Potter and the Chamber of Secrets (Harry...  ...          4.254414\n",
              "3  Harry Potter and the Prisoner of Azkaban (Harr...  ...          4.559125\n",
              "4  Harry Potter Boxed Set  Books 1-5 (Harry Potte...  ...          4.718051\n",
              "\n",
              "[5 rows x 5 columns]"
            ]
          },
          "metadata": {
            "tags": []
          },
          "execution_count": 14
        }
      ]
    },
    {
      "cell_type": "markdown",
      "metadata": {
        "id": "hbTjR-YuYEZl"
      },
      "source": [
        "# <font color=\"darkslateblue\" size=+2.0><b>4: Recommendation based on weighted score</b></font> <a name=\"4\"></a>\n",
        "\n",
        "\n",
        "---\n",
        "\n",
        "<a href=\"#top\" class=\"btn btn-primary btn-sm\" role=\"button\" aria-pressed=\"true\" style=\"color:white\" data-toggle=\"popover\">Go to TOC</a> "
      ]
    },
    {
      "cell_type": "code",
      "metadata": {
        "colab": {
          "base_uri": "https://localhost:8080/",
          "height": 422
        },
        "id": "R7ZDSzHP471K",
        "outputId": "525d9824-6896-4656-c046-79bc1ec62d17"
      },
      "source": [
        "\n",
        "books_sorted_ranking=df_relevant_data.sort_values('weighted_average',ascending=False)\n",
        "books_sorted_ranking"
      ],
      "execution_count": 16,
      "outputs": [
        {
          "output_type": "execute_result",
          "data": {
            "text/html": [
              "<div>\n",
              "<style scoped>\n",
              "    .dataframe tbody tr th:only-of-type {\n",
              "        vertical-align: middle;\n",
              "    }\n",
              "\n",
              "    .dataframe tbody tr th {\n",
              "        vertical-align: top;\n",
              "    }\n",
              "\n",
              "    .dataframe thead th {\n",
              "        text-align: right;\n",
              "    }\n",
              "</style>\n",
              "<table border=\"1\" class=\"dataframe\">\n",
              "  <thead>\n",
              "    <tr style=\"text-align: right;\">\n",
              "      <th></th>\n",
              "      <th>title</th>\n",
              "      <th>average_rating</th>\n",
              "      <th>ratings_count</th>\n",
              "      <th>text_reviews_count</th>\n",
              "      <th>weighted_average</th>\n",
              "    </tr>\n",
              "  </thead>\n",
              "  <tbody>\n",
              "    <tr>\n",
              "      <th>6587</th>\n",
              "      <td>The Complete Calvin and Hobbes</td>\n",
              "      <td>4.82</td>\n",
              "      <td>32213</td>\n",
              "      <td>930</td>\n",
              "      <td>4.738274</td>\n",
              "    </tr>\n",
              "    <tr>\n",
              "      <th>4</th>\n",
              "      <td>Harry Potter Boxed Set  Books 1-5 (Harry Potte...</td>\n",
              "      <td>4.78</td>\n",
              "      <td>41428</td>\n",
              "      <td>164</td>\n",
              "      <td>4.718051</td>\n",
              "    </tr>\n",
              "    <tr>\n",
              "      <th>6589</th>\n",
              "      <td>It's a Magical World (Calvin and Hobbes  #11)</td>\n",
              "      <td>4.76</td>\n",
              "      <td>23875</td>\n",
              "      <td>303</td>\n",
              "      <td>4.660409</td>\n",
              "    </tr>\n",
              "    <tr>\n",
              "      <th>6</th>\n",
              "      <td>Harry Potter Collection (Harry Potter  #1-6)</td>\n",
              "      <td>4.73</td>\n",
              "      <td>28242</td>\n",
              "      <td>808</td>\n",
              "      <td>4.647325</td>\n",
              "    </tr>\n",
              "    <tr>\n",
              "      <th>6588</th>\n",
              "      <td>The Calvin and Hobbes Tenth Anniversary Book</td>\n",
              "      <td>4.63</td>\n",
              "      <td>49122</td>\n",
              "      <td>368</td>\n",
              "      <td>4.586520</td>\n",
              "    </tr>\n",
              "    <tr>\n",
              "      <th>...</th>\n",
              "      <td>...</td>\n",
              "      <td>...</td>\n",
              "      <td>...</td>\n",
              "      <td>...</td>\n",
              "      <td>...</td>\n",
              "    </tr>\n",
              "    <tr>\n",
              "      <th>1940</th>\n",
              "      <td>The Mermaid Chair</td>\n",
              "      <td>3.13</td>\n",
              "      <td>68363</td>\n",
              "      <td>5816</td>\n",
              "      <td>3.166744</td>\n",
              "    </tr>\n",
              "    <tr>\n",
              "      <th>668</th>\n",
              "      <td>The Jane Austen Book Club</td>\n",
              "      <td>3.08</td>\n",
              "      <td>57720</td>\n",
              "      <td>3535</td>\n",
              "      <td>3.125839</td>\n",
              "    </tr>\n",
              "    <tr>\n",
              "      <th>6630</th>\n",
              "      <td>Lost</td>\n",
              "      <td>2.82</td>\n",
              "      <td>13152</td>\n",
              "      <td>904</td>\n",
              "      <td>3.042034</td>\n",
              "    </tr>\n",
              "    <tr>\n",
              "      <th>8812</th>\n",
              "      <td>Citizen Girl</td>\n",
              "      <td>2.40</td>\n",
              "      <td>5415</td>\n",
              "      <td>577</td>\n",
              "      <td>2.977993</td>\n",
              "    </tr>\n",
              "    <tr>\n",
              "      <th>1860</th>\n",
              "      <td>Four Blondes</td>\n",
              "      <td>2.82</td>\n",
              "      <td>23409</td>\n",
              "      <td>877</td>\n",
              "      <td>2.956682</td>\n",
              "    </tr>\n",
              "  </tbody>\n",
              "</table>\n",
              "<p>11123 rows × 5 columns</p>\n",
              "</div>"
            ],
            "text/plain": [
              "                                                  title  ...  weighted_average\n",
              "6587                     The Complete Calvin and Hobbes  ...          4.738274\n",
              "4     Harry Potter Boxed Set  Books 1-5 (Harry Potte...  ...          4.718051\n",
              "6589      It's a Magical World (Calvin and Hobbes  #11)  ...          4.660409\n",
              "6          Harry Potter Collection (Harry Potter  #1-6)  ...          4.647325\n",
              "6588       The Calvin and Hobbes Tenth Anniversary Book  ...          4.586520\n",
              "...                                                 ...  ...               ...\n",
              "1940                                  The Mermaid Chair  ...          3.166744\n",
              "668                           The Jane Austen Book Club  ...          3.125839\n",
              "6630                                               Lost  ...          3.042034\n",
              "8812                                       Citizen Girl  ...          2.977993\n",
              "1860                                       Four Blondes  ...          2.956682\n",
              "\n",
              "[11123 rows x 5 columns]"
            ]
          },
          "metadata": {
            "tags": []
          },
          "execution_count": 16
        }
      ]
    },
    {
      "cell_type": "markdown",
      "metadata": {
        "id": "g-u_GqpCZHtE"
      },
      "source": [
        "This is the list of most favored books based on the weighted scores"
      ]
    },
    {
      "cell_type": "markdown",
      "metadata": {
        "id": "QL1qY9EGYV01"
      },
      "source": [
        "# <font color=\"darkslateblue\" size=+2.0><b>5: Recommendation based on weighted avg and text reviews</b></font> <a name=\"5\"></a>\n",
        "\n",
        "\n",
        "---\n",
        "\n",
        "<a href=\"#top\" class=\"btn btn-primary btn-sm\" role=\"button\" aria-pressed=\"true\" style=\"color:white\" data-toggle=\"popover\">Go to TOC</a> "
      ]
    },
    {
      "cell_type": "markdown",
      "metadata": {
        "id": "kjcJxF2gjAMm"
      },
      "source": [
        "Recommendation based on scaled weighted average and text reviews  (Priority is given 50% to both)\n",
        "\n",
        "<br> Data normalization is performed as scale down the values of both the fields"
      ]
    },
    {
      "cell_type": "code",
      "metadata": {
        "colab": {
          "base_uri": "https://localhost:8080/",
          "height": 205
        },
        "id": "MAhJLPogjE1s",
        "outputId": "3b63a40c-2fe4-43f0-abea-77dbc07bf91c"
      },
      "source": [
        "from sklearn.preprocessing import MinMaxScaler\n",
        "\n",
        "scaling=MinMaxScaler()\n",
        "books_scaled_df=scaling.fit_transform(books_sorted_ranking[['weighted_average','text_reviews_count']])\n",
        "books_normalized_df=pd.DataFrame(books_scaled_df,columns=['weighted_average','text_reviews_count'])\n",
        "books_normalized_df.head()"
      ],
      "execution_count": 17,
      "outputs": [
        {
          "output_type": "execute_result",
          "data": {
            "text/html": [
              "<div>\n",
              "<style scoped>\n",
              "    .dataframe tbody tr th:only-of-type {\n",
              "        vertical-align: middle;\n",
              "    }\n",
              "\n",
              "    .dataframe tbody tr th {\n",
              "        vertical-align: top;\n",
              "    }\n",
              "\n",
              "    .dataframe thead th {\n",
              "        text-align: right;\n",
              "    }\n",
              "</style>\n",
              "<table border=\"1\" class=\"dataframe\">\n",
              "  <thead>\n",
              "    <tr style=\"text-align: right;\">\n",
              "      <th></th>\n",
              "      <th>weighted_average</th>\n",
              "      <th>text_reviews_count</th>\n",
              "    </tr>\n",
              "  </thead>\n",
              "  <tbody>\n",
              "    <tr>\n",
              "      <th>0</th>\n",
              "      <td>1.000000</td>\n",
              "      <td>0.009866</td>\n",
              "    </tr>\n",
              "    <tr>\n",
              "      <th>1</th>\n",
              "      <td>0.988649</td>\n",
              "      <td>0.001740</td>\n",
              "    </tr>\n",
              "    <tr>\n",
              "      <th>2</th>\n",
              "      <td>0.956295</td>\n",
              "      <td>0.003214</td>\n",
              "    </tr>\n",
              "    <tr>\n",
              "      <th>3</th>\n",
              "      <td>0.948951</td>\n",
              "      <td>0.008572</td>\n",
              "    </tr>\n",
              "    <tr>\n",
              "      <th>4</th>\n",
              "      <td>0.914821</td>\n",
              "      <td>0.003904</td>\n",
              "    </tr>\n",
              "  </tbody>\n",
              "</table>\n",
              "</div>"
            ],
            "text/plain": [
              "   weighted_average  text_reviews_count\n",
              "0          1.000000            0.009866\n",
              "1          0.988649            0.001740\n",
              "2          0.956295            0.003214\n",
              "3          0.948951            0.008572\n",
              "4          0.914821            0.003904"
            ]
          },
          "metadata": {
            "tags": []
          },
          "execution_count": 17
        }
      ]
    },
    {
      "cell_type": "code",
      "metadata": {
        "id": "imPgGVzq5Vhj"
      },
      "source": [
        "books_sorted_ranking[['normalized_weight_average','normalized_text_reviews']]= books_normalized_df"
      ],
      "execution_count": 18,
      "outputs": []
    },
    {
      "cell_type": "code",
      "metadata": {
        "colab": {
          "base_uri": "https://localhost:8080/",
          "height": 361
        },
        "id": "Dwz0_Gkxjug7",
        "outputId": "f2e253ee-6742-4885-cd5c-e9e3bdf4dd39"
      },
      "source": [
        "books_sorted_ranking.head()"
      ],
      "execution_count": 19,
      "outputs": [
        {
          "output_type": "execute_result",
          "data": {
            "text/html": [
              "<div>\n",
              "<style scoped>\n",
              "    .dataframe tbody tr th:only-of-type {\n",
              "        vertical-align: middle;\n",
              "    }\n",
              "\n",
              "    .dataframe tbody tr th {\n",
              "        vertical-align: top;\n",
              "    }\n",
              "\n",
              "    .dataframe thead th {\n",
              "        text-align: right;\n",
              "    }\n",
              "</style>\n",
              "<table border=\"1\" class=\"dataframe\">\n",
              "  <thead>\n",
              "    <tr style=\"text-align: right;\">\n",
              "      <th></th>\n",
              "      <th>title</th>\n",
              "      <th>average_rating</th>\n",
              "      <th>ratings_count</th>\n",
              "      <th>text_reviews_count</th>\n",
              "      <th>weighted_average</th>\n",
              "      <th>normalized_weight_average</th>\n",
              "      <th>normalized_text_reviews</th>\n",
              "    </tr>\n",
              "  </thead>\n",
              "  <tbody>\n",
              "    <tr>\n",
              "      <th>6587</th>\n",
              "      <td>The Complete Calvin and Hobbes</td>\n",
              "      <td>4.82</td>\n",
              "      <td>32213</td>\n",
              "      <td>930</td>\n",
              "      <td>4.738274</td>\n",
              "      <td>0.548068</td>\n",
              "      <td>0.000117</td>\n",
              "    </tr>\n",
              "    <tr>\n",
              "      <th>4</th>\n",
              "      <td>Harry Potter Boxed Set  Books 1-5 (Harry Potte...</td>\n",
              "      <td>4.78</td>\n",
              "      <td>41428</td>\n",
              "      <td>164</td>\n",
              "      <td>4.718051</td>\n",
              "      <td>0.914821</td>\n",
              "      <td>0.003904</td>\n",
              "    </tr>\n",
              "    <tr>\n",
              "      <th>6589</th>\n",
              "      <td>It's a Magical World (Calvin and Hobbes  #11)</td>\n",
              "      <td>4.76</td>\n",
              "      <td>23875</td>\n",
              "      <td>303</td>\n",
              "      <td>4.660409</td>\n",
              "      <td>0.548067</td>\n",
              "      <td>0.000011</td>\n",
              "    </tr>\n",
              "    <tr>\n",
              "      <th>6</th>\n",
              "      <td>Harry Potter Collection (Harry Potter  #1-6)</td>\n",
              "      <td>4.73</td>\n",
              "      <td>28242</td>\n",
              "      <td>808</td>\n",
              "      <td>4.647325</td>\n",
              "      <td>0.912263</td>\n",
              "      <td>0.003076</td>\n",
              "    </tr>\n",
              "    <tr>\n",
              "      <th>6588</th>\n",
              "      <td>The Calvin and Hobbes Tenth Anniversary Book</td>\n",
              "      <td>4.63</td>\n",
              "      <td>49122</td>\n",
              "      <td>368</td>\n",
              "      <td>4.586520</td>\n",
              "      <td>0.548067</td>\n",
              "      <td>0.000053</td>\n",
              "    </tr>\n",
              "  </tbody>\n",
              "</table>\n",
              "</div>"
            ],
            "text/plain": [
              "                                                  title  ...  normalized_text_reviews\n",
              "6587                     The Complete Calvin and Hobbes  ...                 0.000117\n",
              "4     Harry Potter Boxed Set  Books 1-5 (Harry Potte...  ...                 0.003904\n",
              "6589      It's a Magical World (Calvin and Hobbes  #11)  ...                 0.000011\n",
              "6          Harry Potter Collection (Harry Potter  #1-6)  ...                 0.003076\n",
              "6588       The Calvin and Hobbes Tenth Anniversary Book  ...                 0.000053\n",
              "\n",
              "[5 rows x 7 columns]"
            ]
          },
          "metadata": {
            "tags": []
          },
          "execution_count": 19
        }
      ]
    },
    {
      "cell_type": "code",
      "metadata": {
        "colab": {
          "base_uri": "https://localhost:8080/",
          "height": 675
        },
        "id": "WjCmdGRfjw0H",
        "outputId": "9a607510-d6ce-4882-b1d4-996ffed65485"
      },
      "source": [
        "books_sorted_ranking['score'] = books_sorted_ranking['normalized_weight_average'] * 0.5 + books_sorted_ranking['normalized_text_reviews'] * 0.5\n",
        "books_scored_df = books_sorted_ranking.sort_values(['score'], ascending=False)\n",
        "books_scored_df[['title', 'normalized_weight_average', 'normalized_text_reviews', 'score']].head(20)"
      ],
      "execution_count": 20,
      "outputs": [
        {
          "output_type": "execute_result",
          "data": {
            "text/html": [
              "<div>\n",
              "<style scoped>\n",
              "    .dataframe tbody tr th:only-of-type {\n",
              "        vertical-align: middle;\n",
              "    }\n",
              "\n",
              "    .dataframe tbody tr th {\n",
              "        vertical-align: top;\n",
              "    }\n",
              "\n",
              "    .dataframe thead th {\n",
              "        text-align: right;\n",
              "    }\n",
              "</style>\n",
              "<table border=\"1\" class=\"dataframe\">\n",
              "  <thead>\n",
              "    <tr style=\"text-align: right;\">\n",
              "      <th></th>\n",
              "      <th>title</th>\n",
              "      <th>normalized_weight_average</th>\n",
              "      <th>normalized_text_reviews</th>\n",
              "      <th>score</th>\n",
              "    </tr>\n",
              "  </thead>\n",
              "  <tbody>\n",
              "    <tr>\n",
              "      <th>62</th>\n",
              "      <td>What to Expect the First Year (What to Expect)</td>\n",
              "      <td>0.792762</td>\n",
              "      <td>0.921668</td>\n",
              "      <td>0.857215</td>\n",
              "    </tr>\n",
              "    <tr>\n",
              "      <th>11015</th>\n",
              "      <td>Miss or Mrs?/ The Haunted Hotel/ The Guilty River</td>\n",
              "      <td>0.355616</td>\n",
              "      <td>1.000000</td>\n",
              "      <td>0.677808</td>\n",
              "    </tr>\n",
              "    <tr>\n",
              "      <th>9</th>\n",
              "      <td>The Hitchhiker's Guide to the Galaxy (Hitchhik...</td>\n",
              "      <td>0.899444</td>\n",
              "      <td>0.385350</td>\n",
              "      <td>0.642397</td>\n",
              "    </tr>\n",
              "    <tr>\n",
              "      <th>697</th>\n",
              "      <td>Daily Reflections For Highly Effective People:...</td>\n",
              "      <td>0.658352</td>\n",
              "      <td>0.600477</td>\n",
              "      <td>0.629414</td>\n",
              "    </tr>\n",
              "    <tr>\n",
              "      <th>205</th>\n",
              "      <td>Bowling Alone: The Collapse and Revival of Ame...</td>\n",
              "      <td>0.725606</td>\n",
              "      <td>0.508683</td>\n",
              "      <td>0.617144</td>\n",
              "    </tr>\n",
              "    <tr>\n",
              "      <th>175</th>\n",
              "      <td>The Crying of Lot 49</td>\n",
              "      <td>0.736399</td>\n",
              "      <td>0.489853</td>\n",
              "      <td>0.613126</td>\n",
              "    </tr>\n",
              "    <tr>\n",
              "      <th>8</th>\n",
              "      <td>The Ultimate Hitchhiker's Guide to the Galaxy ...</td>\n",
              "      <td>0.904992</td>\n",
              "      <td>0.292696</td>\n",
              "      <td>0.598844</td>\n",
              "    </tr>\n",
              "    <tr>\n",
              "      <th>963</th>\n",
              "      <td>Greek Tragedies  Volume 2</td>\n",
              "      <td>0.635900</td>\n",
              "      <td>0.559688</td>\n",
              "      <td>0.597794</td>\n",
              "    </tr>\n",
              "    <tr>\n",
              "      <th>34</th>\n",
              "      <td>Changeling (Changeling  #1)</td>\n",
              "      <td>0.820965</td>\n",
              "      <td>0.368026</td>\n",
              "      <td>0.594496</td>\n",
              "    </tr>\n",
              "    <tr>\n",
              "      <th>14</th>\n",
              "      <td>Bryson's Dictionary of Troublesome Words: A Wr...</td>\n",
              "      <td>0.860171</td>\n",
              "      <td>0.309988</td>\n",
              "      <td>0.585079</td>\n",
              "    </tr>\n",
              "    <tr>\n",
              "      <th>9824</th>\n",
              "      <td>Mighty Love</td>\n",
              "      <td>0.507112</td>\n",
              "      <td>0.592404</td>\n",
              "      <td>0.549758</td>\n",
              "    </tr>\n",
              "    <tr>\n",
              "      <th>171</th>\n",
              "      <td>Great Jones Street</td>\n",
              "      <td>0.736916</td>\n",
              "      <td>0.348708</td>\n",
              "      <td>0.542812</td>\n",
              "    </tr>\n",
              "    <tr>\n",
              "      <th>264</th>\n",
              "      <td>Lonely Planet Londres</td>\n",
              "      <td>0.713904</td>\n",
              "      <td>0.368005</td>\n",
              "      <td>0.540955</td>\n",
              "    </tr>\n",
              "    <tr>\n",
              "      <th>0</th>\n",
              "      <td>Harry Potter and the Half-Blood Prince (Harry ...</td>\n",
              "      <td>1.000000</td>\n",
              "      <td>0.009866</td>\n",
              "      <td>0.504933</td>\n",
              "    </tr>\n",
              "    <tr>\n",
              "      <th>1</th>\n",
              "      <td>Harry Potter and the Order of the Phoenix (Har...</td>\n",
              "      <td>0.988649</td>\n",
              "      <td>0.001740</td>\n",
              "      <td>0.495194</td>\n",
              "    </tr>\n",
              "    <tr>\n",
              "      <th>43</th>\n",
              "      <td>Artesia: Adventures in the Known World</td>\n",
              "      <td>0.814379</td>\n",
              "      <td>0.175410</td>\n",
              "      <td>0.494894</td>\n",
              "    </tr>\n",
              "    <tr>\n",
              "      <th>2</th>\n",
              "      <td>Harry Potter and the Chamber of Secrets (Harry...</td>\n",
              "      <td>0.956295</td>\n",
              "      <td>0.003214</td>\n",
              "      <td>0.479755</td>\n",
              "    </tr>\n",
              "    <tr>\n",
              "      <th>3</th>\n",
              "      <td>Harry Potter and the Prisoner of Azkaban (Harr...</td>\n",
              "      <td>0.948951</td>\n",
              "      <td>0.008572</td>\n",
              "      <td>0.478761</td>\n",
              "    </tr>\n",
              "    <tr>\n",
              "      <th>765</th>\n",
              "      <td>In the Name of Jesus: Reflections on Christian...</td>\n",
              "      <td>0.652723</td>\n",
              "      <td>0.295804</td>\n",
              "      <td>0.474264</td>\n",
              "    </tr>\n",
              "    <tr>\n",
              "      <th>10</th>\n",
              "      <td>The Hitchhiker's Guide to the Galaxy (Hitchhik...</td>\n",
              "      <td>0.884460</td>\n",
              "      <td>0.063290</td>\n",
              "      <td>0.473875</td>\n",
              "    </tr>\n",
              "  </tbody>\n",
              "</table>\n",
              "</div>"
            ],
            "text/plain": [
              "                                                   title  ...     score\n",
              "62        What to Expect the First Year (What to Expect)  ...  0.857215\n",
              "11015  Miss or Mrs?/ The Haunted Hotel/ The Guilty River  ...  0.677808\n",
              "9      The Hitchhiker's Guide to the Galaxy (Hitchhik...  ...  0.642397\n",
              "697    Daily Reflections For Highly Effective People:...  ...  0.629414\n",
              "205    Bowling Alone: The Collapse and Revival of Ame...  ...  0.617144\n",
              "175                                 The Crying of Lot 49  ...  0.613126\n",
              "8      The Ultimate Hitchhiker's Guide to the Galaxy ...  ...  0.598844\n",
              "963                            Greek Tragedies  Volume 2  ...  0.597794\n",
              "34                           Changeling (Changeling  #1)  ...  0.594496\n",
              "14     Bryson's Dictionary of Troublesome Words: A Wr...  ...  0.585079\n",
              "9824                                         Mighty Love  ...  0.549758\n",
              "171                                   Great Jones Street  ...  0.542812\n",
              "264                                Lonely Planet Londres  ...  0.540955\n",
              "0      Harry Potter and the Half-Blood Prince (Harry ...  ...  0.504933\n",
              "1      Harry Potter and the Order of the Phoenix (Har...  ...  0.495194\n",
              "43                Artesia: Adventures in the Known World  ...  0.494894\n",
              "2      Harry Potter and the Chamber of Secrets (Harry...  ...  0.479755\n",
              "3      Harry Potter and the Prisoner of Azkaban (Harr...  ...  0.478761\n",
              "765    In the Name of Jesus: Reflections on Christian...  ...  0.474264\n",
              "10     The Hitchhiker's Guide to the Galaxy (Hitchhik...  ...  0.473875\n",
              "\n",
              "[20 rows x 4 columns]"
            ]
          },
          "metadata": {
            "tags": []
          },
          "execution_count": 20
        }
      ]
    },
    {
      "cell_type": "code",
      "metadata": {
        "colab": {
          "base_uri": "https://localhost:8080/",
          "height": 462
        },
        "id": "KdM6_VEOkGWz",
        "outputId": "0a5dcf01-0d15-4b4b-d7df-1e8ce19c3a88"
      },
      "source": [
        "pd.set_option('display.max_colwidth', None)\n",
        "a = books_scored_df[['title', 'normalized_weight_average', 'normalized_text_reviews', 'score']].reset_index(drop=True).head(20).style.set_properties(**{'text-align': 'left'})\n",
        "a"
      ],
      "execution_count": 22,
      "outputs": [
        {
          "output_type": "execute_result",
          "data": {
            "text/html": [
              "<style  type=\"text/css\" >\n",
              "#T_0c4e5690_d371_11eb_a510_0242ac1c0002row0_col0,#T_0c4e5690_d371_11eb_a510_0242ac1c0002row0_col1,#T_0c4e5690_d371_11eb_a510_0242ac1c0002row0_col2,#T_0c4e5690_d371_11eb_a510_0242ac1c0002row0_col3,#T_0c4e5690_d371_11eb_a510_0242ac1c0002row1_col0,#T_0c4e5690_d371_11eb_a510_0242ac1c0002row1_col1,#T_0c4e5690_d371_11eb_a510_0242ac1c0002row1_col2,#T_0c4e5690_d371_11eb_a510_0242ac1c0002row1_col3,#T_0c4e5690_d371_11eb_a510_0242ac1c0002row2_col0,#T_0c4e5690_d371_11eb_a510_0242ac1c0002row2_col1,#T_0c4e5690_d371_11eb_a510_0242ac1c0002row2_col2,#T_0c4e5690_d371_11eb_a510_0242ac1c0002row2_col3,#T_0c4e5690_d371_11eb_a510_0242ac1c0002row3_col0,#T_0c4e5690_d371_11eb_a510_0242ac1c0002row3_col1,#T_0c4e5690_d371_11eb_a510_0242ac1c0002row3_col2,#T_0c4e5690_d371_11eb_a510_0242ac1c0002row3_col3,#T_0c4e5690_d371_11eb_a510_0242ac1c0002row4_col0,#T_0c4e5690_d371_11eb_a510_0242ac1c0002row4_col1,#T_0c4e5690_d371_11eb_a510_0242ac1c0002row4_col2,#T_0c4e5690_d371_11eb_a510_0242ac1c0002row4_col3,#T_0c4e5690_d371_11eb_a510_0242ac1c0002row5_col0,#T_0c4e5690_d371_11eb_a510_0242ac1c0002row5_col1,#T_0c4e5690_d371_11eb_a510_0242ac1c0002row5_col2,#T_0c4e5690_d371_11eb_a510_0242ac1c0002row5_col3,#T_0c4e5690_d371_11eb_a510_0242ac1c0002row6_col0,#T_0c4e5690_d371_11eb_a510_0242ac1c0002row6_col1,#T_0c4e5690_d371_11eb_a510_0242ac1c0002row6_col2,#T_0c4e5690_d371_11eb_a510_0242ac1c0002row6_col3,#T_0c4e5690_d371_11eb_a510_0242ac1c0002row7_col0,#T_0c4e5690_d371_11eb_a510_0242ac1c0002row7_col1,#T_0c4e5690_d371_11eb_a510_0242ac1c0002row7_col2,#T_0c4e5690_d371_11eb_a510_0242ac1c0002row7_col3,#T_0c4e5690_d371_11eb_a510_0242ac1c0002row8_col0,#T_0c4e5690_d371_11eb_a510_0242ac1c0002row8_col1,#T_0c4e5690_d371_11eb_a510_0242ac1c0002row8_col2,#T_0c4e5690_d371_11eb_a510_0242ac1c0002row8_col3,#T_0c4e5690_d371_11eb_a510_0242ac1c0002row9_col0,#T_0c4e5690_d371_11eb_a510_0242ac1c0002row9_col1,#T_0c4e5690_d371_11eb_a510_0242ac1c0002row9_col2,#T_0c4e5690_d371_11eb_a510_0242ac1c0002row9_col3,#T_0c4e5690_d371_11eb_a510_0242ac1c0002row10_col0,#T_0c4e5690_d371_11eb_a510_0242ac1c0002row10_col1,#T_0c4e5690_d371_11eb_a510_0242ac1c0002row10_col2,#T_0c4e5690_d371_11eb_a510_0242ac1c0002row10_col3,#T_0c4e5690_d371_11eb_a510_0242ac1c0002row11_col0,#T_0c4e5690_d371_11eb_a510_0242ac1c0002row11_col1,#T_0c4e5690_d371_11eb_a510_0242ac1c0002row11_col2,#T_0c4e5690_d371_11eb_a510_0242ac1c0002row11_col3,#T_0c4e5690_d371_11eb_a510_0242ac1c0002row12_col0,#T_0c4e5690_d371_11eb_a510_0242ac1c0002row12_col1,#T_0c4e5690_d371_11eb_a510_0242ac1c0002row12_col2,#T_0c4e5690_d371_11eb_a510_0242ac1c0002row12_col3,#T_0c4e5690_d371_11eb_a510_0242ac1c0002row13_col0,#T_0c4e5690_d371_11eb_a510_0242ac1c0002row13_col1,#T_0c4e5690_d371_11eb_a510_0242ac1c0002row13_col2,#T_0c4e5690_d371_11eb_a510_0242ac1c0002row13_col3,#T_0c4e5690_d371_11eb_a510_0242ac1c0002row14_col0,#T_0c4e5690_d371_11eb_a510_0242ac1c0002row14_col1,#T_0c4e5690_d371_11eb_a510_0242ac1c0002row14_col2,#T_0c4e5690_d371_11eb_a510_0242ac1c0002row14_col3,#T_0c4e5690_d371_11eb_a510_0242ac1c0002row15_col0,#T_0c4e5690_d371_11eb_a510_0242ac1c0002row15_col1,#T_0c4e5690_d371_11eb_a510_0242ac1c0002row15_col2,#T_0c4e5690_d371_11eb_a510_0242ac1c0002row15_col3,#T_0c4e5690_d371_11eb_a510_0242ac1c0002row16_col0,#T_0c4e5690_d371_11eb_a510_0242ac1c0002row16_col1,#T_0c4e5690_d371_11eb_a510_0242ac1c0002row16_col2,#T_0c4e5690_d371_11eb_a510_0242ac1c0002row16_col3,#T_0c4e5690_d371_11eb_a510_0242ac1c0002row17_col0,#T_0c4e5690_d371_11eb_a510_0242ac1c0002row17_col1,#T_0c4e5690_d371_11eb_a510_0242ac1c0002row17_col2,#T_0c4e5690_d371_11eb_a510_0242ac1c0002row17_col3,#T_0c4e5690_d371_11eb_a510_0242ac1c0002row18_col0,#T_0c4e5690_d371_11eb_a510_0242ac1c0002row18_col1,#T_0c4e5690_d371_11eb_a510_0242ac1c0002row18_col2,#T_0c4e5690_d371_11eb_a510_0242ac1c0002row18_col3,#T_0c4e5690_d371_11eb_a510_0242ac1c0002row19_col0,#T_0c4e5690_d371_11eb_a510_0242ac1c0002row19_col1,#T_0c4e5690_d371_11eb_a510_0242ac1c0002row19_col2,#T_0c4e5690_d371_11eb_a510_0242ac1c0002row19_col3{\n",
              "            text-align:  left;\n",
              "        }</style><table id=\"T_0c4e5690_d371_11eb_a510_0242ac1c0002\" ><thead>    <tr>        <th class=\"blank level0\" ></th>        <th class=\"col_heading level0 col0\" >title</th>        <th class=\"col_heading level0 col1\" >normalized_weight_average</th>        <th class=\"col_heading level0 col2\" >normalized_text_reviews</th>        <th class=\"col_heading level0 col3\" >score</th>    </tr></thead><tbody>\n",
              "                <tr>\n",
              "                        <th id=\"T_0c4e5690_d371_11eb_a510_0242ac1c0002level0_row0\" class=\"row_heading level0 row0\" >0</th>\n",
              "                        <td id=\"T_0c4e5690_d371_11eb_a510_0242ac1c0002row0_col0\" class=\"data row0 col0\" >What to Expect the First Year (What to Expect)</td>\n",
              "                        <td id=\"T_0c4e5690_d371_11eb_a510_0242ac1c0002row0_col1\" class=\"data row0 col1\" >0.792762</td>\n",
              "                        <td id=\"T_0c4e5690_d371_11eb_a510_0242ac1c0002row0_col2\" class=\"data row0 col2\" >0.921668</td>\n",
              "                        <td id=\"T_0c4e5690_d371_11eb_a510_0242ac1c0002row0_col3\" class=\"data row0 col3\" >0.857215</td>\n",
              "            </tr>\n",
              "            <tr>\n",
              "                        <th id=\"T_0c4e5690_d371_11eb_a510_0242ac1c0002level0_row1\" class=\"row_heading level0 row1\" >1</th>\n",
              "                        <td id=\"T_0c4e5690_d371_11eb_a510_0242ac1c0002row1_col0\" class=\"data row1 col0\" >Miss or Mrs?/ The Haunted Hotel/ The Guilty River</td>\n",
              "                        <td id=\"T_0c4e5690_d371_11eb_a510_0242ac1c0002row1_col1\" class=\"data row1 col1\" >0.355616</td>\n",
              "                        <td id=\"T_0c4e5690_d371_11eb_a510_0242ac1c0002row1_col2\" class=\"data row1 col2\" >1.000000</td>\n",
              "                        <td id=\"T_0c4e5690_d371_11eb_a510_0242ac1c0002row1_col3\" class=\"data row1 col3\" >0.677808</td>\n",
              "            </tr>\n",
              "            <tr>\n",
              "                        <th id=\"T_0c4e5690_d371_11eb_a510_0242ac1c0002level0_row2\" class=\"row_heading level0 row2\" >2</th>\n",
              "                        <td id=\"T_0c4e5690_d371_11eb_a510_0242ac1c0002row2_col0\" class=\"data row2 col0\" >The Hitchhiker's Guide to the Galaxy (Hitchhiker's Guide to the Galaxy  #1)</td>\n",
              "                        <td id=\"T_0c4e5690_d371_11eb_a510_0242ac1c0002row2_col1\" class=\"data row2 col1\" >0.899444</td>\n",
              "                        <td id=\"T_0c4e5690_d371_11eb_a510_0242ac1c0002row2_col2\" class=\"data row2 col2\" >0.385350</td>\n",
              "                        <td id=\"T_0c4e5690_d371_11eb_a510_0242ac1c0002row2_col3\" class=\"data row2 col3\" >0.642397</td>\n",
              "            </tr>\n",
              "            <tr>\n",
              "                        <th id=\"T_0c4e5690_d371_11eb_a510_0242ac1c0002level0_row3\" class=\"row_heading level0 row3\" >3</th>\n",
              "                        <td id=\"T_0c4e5690_d371_11eb_a510_0242ac1c0002row3_col0\" class=\"data row3 col0\" >Daily Reflections For Highly Effective People: Living the 7 Habits of Highly Successful People Every Day</td>\n",
              "                        <td id=\"T_0c4e5690_d371_11eb_a510_0242ac1c0002row3_col1\" class=\"data row3 col1\" >0.658352</td>\n",
              "                        <td id=\"T_0c4e5690_d371_11eb_a510_0242ac1c0002row3_col2\" class=\"data row3 col2\" >0.600477</td>\n",
              "                        <td id=\"T_0c4e5690_d371_11eb_a510_0242ac1c0002row3_col3\" class=\"data row3 col3\" >0.629414</td>\n",
              "            </tr>\n",
              "            <tr>\n",
              "                        <th id=\"T_0c4e5690_d371_11eb_a510_0242ac1c0002level0_row4\" class=\"row_heading level0 row4\" >4</th>\n",
              "                        <td id=\"T_0c4e5690_d371_11eb_a510_0242ac1c0002row4_col0\" class=\"data row4 col0\" >Bowling Alone: The Collapse and Revival of American Community</td>\n",
              "                        <td id=\"T_0c4e5690_d371_11eb_a510_0242ac1c0002row4_col1\" class=\"data row4 col1\" >0.725606</td>\n",
              "                        <td id=\"T_0c4e5690_d371_11eb_a510_0242ac1c0002row4_col2\" class=\"data row4 col2\" >0.508683</td>\n",
              "                        <td id=\"T_0c4e5690_d371_11eb_a510_0242ac1c0002row4_col3\" class=\"data row4 col3\" >0.617144</td>\n",
              "            </tr>\n",
              "            <tr>\n",
              "                        <th id=\"T_0c4e5690_d371_11eb_a510_0242ac1c0002level0_row5\" class=\"row_heading level0 row5\" >5</th>\n",
              "                        <td id=\"T_0c4e5690_d371_11eb_a510_0242ac1c0002row5_col0\" class=\"data row5 col0\" >The Crying of Lot 49</td>\n",
              "                        <td id=\"T_0c4e5690_d371_11eb_a510_0242ac1c0002row5_col1\" class=\"data row5 col1\" >0.736399</td>\n",
              "                        <td id=\"T_0c4e5690_d371_11eb_a510_0242ac1c0002row5_col2\" class=\"data row5 col2\" >0.489853</td>\n",
              "                        <td id=\"T_0c4e5690_d371_11eb_a510_0242ac1c0002row5_col3\" class=\"data row5 col3\" >0.613126</td>\n",
              "            </tr>\n",
              "            <tr>\n",
              "                        <th id=\"T_0c4e5690_d371_11eb_a510_0242ac1c0002level0_row6\" class=\"row_heading level0 row6\" >6</th>\n",
              "                        <td id=\"T_0c4e5690_d371_11eb_a510_0242ac1c0002row6_col0\" class=\"data row6 col0\" >The Ultimate Hitchhiker's Guide to the Galaxy (Hitchhiker's Guide to the Galaxy  #1-5)</td>\n",
              "                        <td id=\"T_0c4e5690_d371_11eb_a510_0242ac1c0002row6_col1\" class=\"data row6 col1\" >0.904992</td>\n",
              "                        <td id=\"T_0c4e5690_d371_11eb_a510_0242ac1c0002row6_col2\" class=\"data row6 col2\" >0.292696</td>\n",
              "                        <td id=\"T_0c4e5690_d371_11eb_a510_0242ac1c0002row6_col3\" class=\"data row6 col3\" >0.598844</td>\n",
              "            </tr>\n",
              "            <tr>\n",
              "                        <th id=\"T_0c4e5690_d371_11eb_a510_0242ac1c0002level0_row7\" class=\"row_heading level0 row7\" >7</th>\n",
              "                        <td id=\"T_0c4e5690_d371_11eb_a510_0242ac1c0002row7_col0\" class=\"data row7 col0\" >Greek Tragedies  Volume 2</td>\n",
              "                        <td id=\"T_0c4e5690_d371_11eb_a510_0242ac1c0002row7_col1\" class=\"data row7 col1\" >0.635900</td>\n",
              "                        <td id=\"T_0c4e5690_d371_11eb_a510_0242ac1c0002row7_col2\" class=\"data row7 col2\" >0.559688</td>\n",
              "                        <td id=\"T_0c4e5690_d371_11eb_a510_0242ac1c0002row7_col3\" class=\"data row7 col3\" >0.597794</td>\n",
              "            </tr>\n",
              "            <tr>\n",
              "                        <th id=\"T_0c4e5690_d371_11eb_a510_0242ac1c0002level0_row8\" class=\"row_heading level0 row8\" >8</th>\n",
              "                        <td id=\"T_0c4e5690_d371_11eb_a510_0242ac1c0002row8_col0\" class=\"data row8 col0\" >Changeling (Changeling  #1)</td>\n",
              "                        <td id=\"T_0c4e5690_d371_11eb_a510_0242ac1c0002row8_col1\" class=\"data row8 col1\" >0.820965</td>\n",
              "                        <td id=\"T_0c4e5690_d371_11eb_a510_0242ac1c0002row8_col2\" class=\"data row8 col2\" >0.368026</td>\n",
              "                        <td id=\"T_0c4e5690_d371_11eb_a510_0242ac1c0002row8_col3\" class=\"data row8 col3\" >0.594496</td>\n",
              "            </tr>\n",
              "            <tr>\n",
              "                        <th id=\"T_0c4e5690_d371_11eb_a510_0242ac1c0002level0_row9\" class=\"row_heading level0 row9\" >9</th>\n",
              "                        <td id=\"T_0c4e5690_d371_11eb_a510_0242ac1c0002row9_col0\" class=\"data row9 col0\" >Bryson's Dictionary of Troublesome Words: A Writer's Guide to Getting It Right</td>\n",
              "                        <td id=\"T_0c4e5690_d371_11eb_a510_0242ac1c0002row9_col1\" class=\"data row9 col1\" >0.860171</td>\n",
              "                        <td id=\"T_0c4e5690_d371_11eb_a510_0242ac1c0002row9_col2\" class=\"data row9 col2\" >0.309988</td>\n",
              "                        <td id=\"T_0c4e5690_d371_11eb_a510_0242ac1c0002row9_col3\" class=\"data row9 col3\" >0.585079</td>\n",
              "            </tr>\n",
              "            <tr>\n",
              "                        <th id=\"T_0c4e5690_d371_11eb_a510_0242ac1c0002level0_row10\" class=\"row_heading level0 row10\" >10</th>\n",
              "                        <td id=\"T_0c4e5690_d371_11eb_a510_0242ac1c0002row10_col0\" class=\"data row10 col0\" >Mighty Love</td>\n",
              "                        <td id=\"T_0c4e5690_d371_11eb_a510_0242ac1c0002row10_col1\" class=\"data row10 col1\" >0.507112</td>\n",
              "                        <td id=\"T_0c4e5690_d371_11eb_a510_0242ac1c0002row10_col2\" class=\"data row10 col2\" >0.592404</td>\n",
              "                        <td id=\"T_0c4e5690_d371_11eb_a510_0242ac1c0002row10_col3\" class=\"data row10 col3\" >0.549758</td>\n",
              "            </tr>\n",
              "            <tr>\n",
              "                        <th id=\"T_0c4e5690_d371_11eb_a510_0242ac1c0002level0_row11\" class=\"row_heading level0 row11\" >11</th>\n",
              "                        <td id=\"T_0c4e5690_d371_11eb_a510_0242ac1c0002row11_col0\" class=\"data row11 col0\" >Great Jones Street</td>\n",
              "                        <td id=\"T_0c4e5690_d371_11eb_a510_0242ac1c0002row11_col1\" class=\"data row11 col1\" >0.736916</td>\n",
              "                        <td id=\"T_0c4e5690_d371_11eb_a510_0242ac1c0002row11_col2\" class=\"data row11 col2\" >0.348708</td>\n",
              "                        <td id=\"T_0c4e5690_d371_11eb_a510_0242ac1c0002row11_col3\" class=\"data row11 col3\" >0.542812</td>\n",
              "            </tr>\n",
              "            <tr>\n",
              "                        <th id=\"T_0c4e5690_d371_11eb_a510_0242ac1c0002level0_row12\" class=\"row_heading level0 row12\" >12</th>\n",
              "                        <td id=\"T_0c4e5690_d371_11eb_a510_0242ac1c0002row12_col0\" class=\"data row12 col0\" >Lonely Planet Londres</td>\n",
              "                        <td id=\"T_0c4e5690_d371_11eb_a510_0242ac1c0002row12_col1\" class=\"data row12 col1\" >0.713904</td>\n",
              "                        <td id=\"T_0c4e5690_d371_11eb_a510_0242ac1c0002row12_col2\" class=\"data row12 col2\" >0.368005</td>\n",
              "                        <td id=\"T_0c4e5690_d371_11eb_a510_0242ac1c0002row12_col3\" class=\"data row12 col3\" >0.540955</td>\n",
              "            </tr>\n",
              "            <tr>\n",
              "                        <th id=\"T_0c4e5690_d371_11eb_a510_0242ac1c0002level0_row13\" class=\"row_heading level0 row13\" >13</th>\n",
              "                        <td id=\"T_0c4e5690_d371_11eb_a510_0242ac1c0002row13_col0\" class=\"data row13 col0\" >Harry Potter and the Half-Blood Prince (Harry Potter  #6)</td>\n",
              "                        <td id=\"T_0c4e5690_d371_11eb_a510_0242ac1c0002row13_col1\" class=\"data row13 col1\" >1.000000</td>\n",
              "                        <td id=\"T_0c4e5690_d371_11eb_a510_0242ac1c0002row13_col2\" class=\"data row13 col2\" >0.009866</td>\n",
              "                        <td id=\"T_0c4e5690_d371_11eb_a510_0242ac1c0002row13_col3\" class=\"data row13 col3\" >0.504933</td>\n",
              "            </tr>\n",
              "            <tr>\n",
              "                        <th id=\"T_0c4e5690_d371_11eb_a510_0242ac1c0002level0_row14\" class=\"row_heading level0 row14\" >14</th>\n",
              "                        <td id=\"T_0c4e5690_d371_11eb_a510_0242ac1c0002row14_col0\" class=\"data row14 col0\" >Harry Potter and the Order of the Phoenix (Harry Potter  #5)</td>\n",
              "                        <td id=\"T_0c4e5690_d371_11eb_a510_0242ac1c0002row14_col1\" class=\"data row14 col1\" >0.988649</td>\n",
              "                        <td id=\"T_0c4e5690_d371_11eb_a510_0242ac1c0002row14_col2\" class=\"data row14 col2\" >0.001740</td>\n",
              "                        <td id=\"T_0c4e5690_d371_11eb_a510_0242ac1c0002row14_col3\" class=\"data row14 col3\" >0.495194</td>\n",
              "            </tr>\n",
              "            <tr>\n",
              "                        <th id=\"T_0c4e5690_d371_11eb_a510_0242ac1c0002level0_row15\" class=\"row_heading level0 row15\" >15</th>\n",
              "                        <td id=\"T_0c4e5690_d371_11eb_a510_0242ac1c0002row15_col0\" class=\"data row15 col0\" >Artesia: Adventures in the Known World</td>\n",
              "                        <td id=\"T_0c4e5690_d371_11eb_a510_0242ac1c0002row15_col1\" class=\"data row15 col1\" >0.814379</td>\n",
              "                        <td id=\"T_0c4e5690_d371_11eb_a510_0242ac1c0002row15_col2\" class=\"data row15 col2\" >0.175410</td>\n",
              "                        <td id=\"T_0c4e5690_d371_11eb_a510_0242ac1c0002row15_col3\" class=\"data row15 col3\" >0.494894</td>\n",
              "            </tr>\n",
              "            <tr>\n",
              "                        <th id=\"T_0c4e5690_d371_11eb_a510_0242ac1c0002level0_row16\" class=\"row_heading level0 row16\" >16</th>\n",
              "                        <td id=\"T_0c4e5690_d371_11eb_a510_0242ac1c0002row16_col0\" class=\"data row16 col0\" >Harry Potter and the Chamber of Secrets (Harry Potter  #2)</td>\n",
              "                        <td id=\"T_0c4e5690_d371_11eb_a510_0242ac1c0002row16_col1\" class=\"data row16 col1\" >0.956295</td>\n",
              "                        <td id=\"T_0c4e5690_d371_11eb_a510_0242ac1c0002row16_col2\" class=\"data row16 col2\" >0.003214</td>\n",
              "                        <td id=\"T_0c4e5690_d371_11eb_a510_0242ac1c0002row16_col3\" class=\"data row16 col3\" >0.479755</td>\n",
              "            </tr>\n",
              "            <tr>\n",
              "                        <th id=\"T_0c4e5690_d371_11eb_a510_0242ac1c0002level0_row17\" class=\"row_heading level0 row17\" >17</th>\n",
              "                        <td id=\"T_0c4e5690_d371_11eb_a510_0242ac1c0002row17_col0\" class=\"data row17 col0\" >Harry Potter and the Prisoner of Azkaban (Harry Potter  #3)</td>\n",
              "                        <td id=\"T_0c4e5690_d371_11eb_a510_0242ac1c0002row17_col1\" class=\"data row17 col1\" >0.948951</td>\n",
              "                        <td id=\"T_0c4e5690_d371_11eb_a510_0242ac1c0002row17_col2\" class=\"data row17 col2\" >0.008572</td>\n",
              "                        <td id=\"T_0c4e5690_d371_11eb_a510_0242ac1c0002row17_col3\" class=\"data row17 col3\" >0.478761</td>\n",
              "            </tr>\n",
              "            <tr>\n",
              "                        <th id=\"T_0c4e5690_d371_11eb_a510_0242ac1c0002level0_row18\" class=\"row_heading level0 row18\" >18</th>\n",
              "                        <td id=\"T_0c4e5690_d371_11eb_a510_0242ac1c0002row18_col0\" class=\"data row18 col0\" >In the Name of Jesus: Reflections on Christian Leadership</td>\n",
              "                        <td id=\"T_0c4e5690_d371_11eb_a510_0242ac1c0002row18_col1\" class=\"data row18 col1\" >0.652723</td>\n",
              "                        <td id=\"T_0c4e5690_d371_11eb_a510_0242ac1c0002row18_col2\" class=\"data row18 col2\" >0.295804</td>\n",
              "                        <td id=\"T_0c4e5690_d371_11eb_a510_0242ac1c0002row18_col3\" class=\"data row18 col3\" >0.474264</td>\n",
              "            </tr>\n",
              "            <tr>\n",
              "                        <th id=\"T_0c4e5690_d371_11eb_a510_0242ac1c0002level0_row19\" class=\"row_heading level0 row19\" >19</th>\n",
              "                        <td id=\"T_0c4e5690_d371_11eb_a510_0242ac1c0002row19_col0\" class=\"data row19 col0\" >The Hitchhiker's Guide to the Galaxy (Hitchhiker's Guide to the Galaxy  #1)</td>\n",
              "                        <td id=\"T_0c4e5690_d371_11eb_a510_0242ac1c0002row19_col1\" class=\"data row19 col1\" >0.884460</td>\n",
              "                        <td id=\"T_0c4e5690_d371_11eb_a510_0242ac1c0002row19_col2\" class=\"data row19 col2\" >0.063290</td>\n",
              "                        <td id=\"T_0c4e5690_d371_11eb_a510_0242ac1c0002row19_col3\" class=\"data row19 col3\" >0.473875</td>\n",
              "            </tr>\n",
              "    </tbody></table>"
            ],
            "text/plain": [
              "<pandas.io.formats.style.Styler at 0x7fd9c0558fd0>"
            ]
          },
          "metadata": {
            "tags": []
          },
          "execution_count": 22
        }
      ]
    },
    {
      "cell_type": "markdown",
      "metadata": {
        "id": "6L2JfgN6ZnRO"
      },
      "source": [
        "The above list are the top 20 books favoured based on the weighted scores and the text reviews count."
      ]
    },
    {
      "cell_type": "markdown",
      "metadata": {
        "id": "0WyGFDs6lRIW"
      },
      "source": [
        "# <font color=\"darkslateblue\" size=+2.0><b>6: Summary </b></font> <a name=\"6\"></a>\n",
        "\n",
        "\n",
        "---\n",
        "\n",
        "<a href=\"#top\" class=\"btn btn-primary btn-sm\" role=\"button\" aria-pressed=\"true\" style=\"color:white\" data-toggle=\"popover\">Go to TOC</a> "
      ]
    },
    {
      "cell_type": "markdown",
      "metadata": {
        "id": "7N2ItXpBlRCm"
      },
      "source": [
        "# <font color=\"darkslateblue\" size=+2.0><b>7: Future Work </b></font> <a name=\"7\"></a>\n",
        "\n",
        "\n",
        "---\n",
        "\n",
        "<a href=\"#top\" class=\"btn btn-primary btn-sm\" role=\"button\" aria-pressed=\"true\" style=\"color:white\" data-toggle=\"popover\">Go to TOC</a> "
      ]
    },
    {
      "cell_type": "markdown",
      "metadata": {
        "id": "6Zvmzf1wlQ_4"
      },
      "source": [
        "# <font color=\"darkslateblue\" size=+2.0><b>8: References </b></font> <a name=\"8\"></a>\n",
        "\n",
        "\n",
        "---\n",
        "\n",
        "<a href=\"#top\" class=\"btn btn-primary btn-sm\" role=\"button\" aria-pressed=\"true\" style=\"color:white\" data-toggle=\"popover\">Go to TOC</a> "
      ]
    },
    {
      "cell_type": "markdown",
      "metadata": {
        "id": "k19Be1_YlQ9I"
      },
      "source": [
        ""
      ]
    }
  ]
}